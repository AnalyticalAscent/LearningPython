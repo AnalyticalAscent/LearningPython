{
 "cells": [
  {
   "cell_type": "markdown",
   "id": "873de398-37bd-4600-9023-3a485a9d626c",
   "metadata": {},
   "source": [
    "# Learning Python"
   ]
  },
  {
   "cell_type": "markdown",
   "id": "44d74a72-ef4e-4050-9820-57a6178812a1",
   "metadata": {},
   "source": [
    "This is the comphrensive companion notebook for our Analytical Ascent: Learning Python blog series which can be found on our website at the link [here](https://analyticalascent.com/python-for-beginners-data-science/). The sections that follow have Part numbers that correspond to the associated blog post to simplify referencing back and forth.\n"
   ]
  },
  {
   "cell_type": "markdown",
   "id": "7e9820f6-3f9b-4c85-b7fe-1d70af4d3058",
   "metadata": {},
   "source": [
    "## Learning Python: Part 5 - Variables and Loops"
   ]
  },
  {
   "cell_type": "markdown",
   "id": "7fc165ea-36d5-45a4-aa91-c80ba9e26b5a",
   "metadata": {},
   "source": [
    "### Variables: Basic units of storage."
   ]
  },
  {
   "cell_type": "code",
   "execution_count": 1,
   "id": "ef29ec90-2757-47b8-a4b2-197297e86288",
   "metadata": {},
   "outputs": [],
   "source": [
    "# Setting the x variable equal to 10\n",
    "x = 10\n",
    "\n",
    "# Setting the first_name variable equal to Alice\n",
    "first_name = \"Alice\""
   ]
  },
  {
   "cell_type": "code",
   "execution_count": 2,
   "id": "6b7fe82f-90ce-4981-aa20-5292f594b0b5",
   "metadata": {},
   "outputs": [
    {
     "name": "stdout",
     "output_type": "stream",
     "text": [
      "10\n"
     ]
    }
   ],
   "source": [
    "print(x)"
   ]
  },
  {
   "cell_type": "code",
   "execution_count": 3,
   "id": "5d2d5b53-2fa2-4263-ae85-95feb47fbc6b",
   "metadata": {},
   "outputs": [
    {
     "name": "stdout",
     "output_type": "stream",
     "text": [
      "Alice\n"
     ]
    }
   ],
   "source": [
    "print(first_name)"
   ]
  },
  {
   "cell_type": "markdown",
   "id": "6c664df0-70f1-4ace-b705-bcc2b4036d60",
   "metadata": {},
   "source": [
    "### Data Types in Python"
   ]
  },
  {
   "cell_type": "markdown",
   "id": "66652f73-97a5-4821-8d31-4abcc865ca37",
   "metadata": {},
   "source": [
    "#### Integers: Whole numbers without a decimal point."
   ]
  },
  {
   "cell_type": "code",
   "execution_count": 4,
   "id": "0b4612c6-2963-40d9-be75-4479f7f02efc",
   "metadata": {},
   "outputs": [],
   "source": [
    "age = 25"
   ]
  },
  {
   "cell_type": "markdown",
   "id": "a4257129-afce-419e-8db6-00ed449aad5f",
   "metadata": {},
   "source": [
    "#### Floats: Numbers with a decimal point."
   ]
  },
  {
   "cell_type": "code",
   "execution_count": 5,
   "id": "2f64047f-5ea6-4e9c-9c87-61fe3ceae824",
   "metadata": {},
   "outputs": [],
   "source": [
    "temperature = 98.6"
   ]
  },
  {
   "cell_type": "markdown",
   "id": "3bf8a179-4c42-4b46-a933-dd826fa5ef21",
   "metadata": {},
   "source": [
    "#### Strings: Sequances of characters enclosed in quotes."
   ]
  },
  {
   "cell_type": "code",
   "execution_count": 6,
   "id": "653cba76-1b38-467c-be9b-d792aeb6c3bb",
   "metadata": {},
   "outputs": [],
   "source": [
    "greeting = \"Hello, World!\""
   ]
  },
  {
   "cell_type": "markdown",
   "id": "c2b004c7-b444-46cd-bdb9-a2ac68a02104",
   "metadata": {},
   "source": [
    "#### Lists: Ordered collections of items, which can be of different data types."
   ]
  },
  {
   "cell_type": "code",
   "execution_count": 7,
   "id": "61e855ee-c67d-47c6-9a46-81f1b419388b",
   "metadata": {},
   "outputs": [],
   "source": [
    "fruits = [\"apple\", \"banana\", \"cherry\"]"
   ]
  },
  {
   "cell_type": "markdown",
   "id": "60550d17-7785-4dc5-9ce3-4e9e8e759cc6",
   "metadata": {},
   "source": [
    "#### Dictionaries: Collections of key-value pairs."
   ]
  },
  {
   "cell_type": "code",
   "execution_count": 8,
   "id": "56f67ad0-e8f8-4d3c-8c55-117ea0306e36",
   "metadata": {},
   "outputs": [],
   "source": [
    "person = {\"name\": \"Alice\", \"age\":30}"
   ]
  },
  {
   "cell_type": "markdown",
   "id": "1b615e95-f6aa-4591-b2c6-ae42d2bffd25",
   "metadata": {},
   "source": [
    "#### Sets: Unordered collections of unique items"
   ]
  },
  {
   "cell_type": "code",
   "execution_count": 9,
   "id": "c5999e33-6dc6-4e0c-a76c-98f8f1c68ae2",
   "metadata": {},
   "outputs": [],
   "source": [
    "unique_numbers = {1, 2, 3, 4, 5}"
   ]
  },
  {
   "cell_type": "markdown",
   "id": "62d5af24-dc56-4699-bd6e-21e8241e4e88",
   "metadata": {},
   "source": [
    "#### Booleans: True or False values."
   ]
  },
  {
   "cell_type": "code",
   "execution_count": 10,
   "id": "0565cded-46b8-4ad0-949c-58388c2ee14e",
   "metadata": {},
   "outputs": [],
   "source": [
    "is_student = True"
   ]
  },
  {
   "cell_type": "markdown",
   "id": "5f84100e-6066-4505-bbfe-434eeaaf317d",
   "metadata": {},
   "source": [
    "### Boolean Variables and Operators"
   ]
  },
  {
   "cell_type": "code",
   "execution_count": 11,
   "id": "6e865889-acde-472e-87f1-6712a007687f",
   "metadata": {},
   "outputs": [
    {
     "name": "stdout",
     "output_type": "stream",
     "text": [
      "False\n",
      "True\n",
      "False\n"
     ]
    }
   ],
   "source": [
    "is_raining = True\n",
    "is_sunny = False\n",
    "\n",
    "# Boolean operators\n",
    "print(is_raining and is_sunny) # False\n",
    "print(is_raining or is_sunny) # True\n",
    "print(not is_raining) # False\n"
   ]
  },
  {
   "cell_type": "markdown",
   "id": "33537c86-60b5-40b3-a2c8-e75c1d64753f",
   "metadata": {},
   "source": [
    "### While Loop"
   ]
  },
  {
   "cell_type": "code",
   "execution_count": 12,
   "id": "344dd68e-3b5a-4d2f-a5c0-75c733aa56fe",
   "metadata": {},
   "outputs": [
    {
     "name": "stdout",
     "output_type": "stream",
     "text": [
      "Counting: 0\n",
      "Counting: 1\n",
      "Counting: 2\n",
      "Counting: 3\n",
      "Counting: 4\n"
     ]
    }
   ],
   "source": [
    "count = 0\n",
    "while count < 5:\n",
    "    print(\"Counting:\", count)\n",
    "    count += 1 #increment count by 1"
   ]
  },
  {
   "cell_type": "markdown",
   "id": "b9134010-f28d-4ccd-8892-d1b295851a97",
   "metadata": {},
   "source": [
    "### For Loop"
   ]
  },
  {
   "cell_type": "code",
   "execution_count": 13,
   "id": "a76d76df-35be-459c-b894-d7009310d6b8",
   "metadata": {},
   "outputs": [
    {
     "name": "stdout",
     "output_type": "stream",
     "text": [
      "apple\n",
      "banana\n",
      "cherry\n"
     ]
    }
   ],
   "source": [
    "fruits = [\"apple\", \"banana\", \"cherry\"]\n",
    "for fruit in fruits:\n",
    "    print(fruit)"
   ]
  },
  {
   "cell_type": "markdown",
   "id": "7ee30913-95a8-4aee-9c55-549e82276415",
   "metadata": {},
   "source": [
    "### If Statement"
   ]
  },
  {
   "cell_type": "code",
   "execution_count": 14,
   "id": "75c5b090-58d9-4376-b493-f45dceb5279c",
   "metadata": {},
   "outputs": [
    {
     "name": "stdout",
     "output_type": "stream",
     "text": [
      "x is greater than 5\n"
     ]
    }
   ],
   "source": [
    "x = 10\n",
    "if x > 5:\n",
    "    print(\"x is greater than 5\")\n",
    "else:\n",
    "    print(\"x is 5 or less\")"
   ]
  },
  {
   "cell_type": "markdown",
   "id": "b2654176-a988-4baf-bf11-ccac1a70e248",
   "metadata": {},
   "source": [
    "### Code Indentation in Python"
   ]
  },
  {
   "cell_type": "code",
   "execution_count": 15,
   "id": "1e786736-fbd8-4658-a545-15b076311a56",
   "metadata": {},
   "outputs": [
    {
     "name": "stdout",
     "output_type": "stream",
     "text": [
      "This is indented\n"
     ]
    }
   ],
   "source": [
    "# Each level of indentation represents a new block of code. Consistency in using either spaces or tabs for indentation is important to avoid errors.\n",
    "if x > 5:\n",
    "    print(\"This is indented\")\n",
    "    if x > 10:\n",
    "        print(\"This is further indented\")"
   ]
  },
  {
   "cell_type": "markdown",
   "id": "d2ad492f-5212-47d5-9b6a-ef02cae25f48",
   "metadata": {},
   "source": [
    "## Learning Python - Part 6: Functions and Modules"
   ]
  },
  {
   "cell_type": "markdown",
   "id": "fde9497a-63de-430d-ae69-c6692d2f539e",
   "metadata": {},
   "source": [
    "### Defining and Using Functions"
   ]
  },
  {
   "cell_type": "code",
   "execution_count": 1,
   "id": "3dfe5ee2-79e6-4da5-bf12-ca3fe37458ce",
   "metadata": {},
   "outputs": [],
   "source": [
    "# Define a function using the 'def' keywork, followed by the function name and parentheses.\n",
    "def greet(name):\n",
    "    \"\"\"This function greets the person whose name is passed as an argument.\"\"\"\n",
    "    print(f\"Hello, {name}!\")"
   ]
  },
  {
   "cell_type": "code",
   "execution_count": 2,
   "id": "564623ee-ff7b-4033-b4cb-61471ecff89a",
   "metadata": {},
   "outputs": [
    {
     "name": "stdout",
     "output_type": "stream",
     "text": [
      "Hello, Alice!\n"
     ]
    }
   ],
   "source": [
    "# Calling the function\n",
    "greet(\"Alice\")"
   ]
  },
  {
   "cell_type": "code",
   "execution_count": 3,
   "id": "bb3a12cb-6b2b-4738-a285-f4053091e86d",
   "metadata": {},
   "outputs": [
    {
     "name": "stdout",
     "output_type": "stream",
     "text": [
      "Hello, Bob!\n"
     ]
    }
   ],
   "source": [
    "# Calling the function with a different name argument\n",
    "greet(\"Bob\")"
   ]
  },
  {
   "cell_type": "markdown",
   "id": "893c085c-5b0d-4676-b5a7-a7316ec1303c",
   "metadata": {},
   "source": [
    "### Importing and Using Modules"
   ]
  },
  {
   "cell_type": "code",
   "execution_count": 4,
   "id": "9077befb-fdcb-45c5-8582-689864a6ceea",
   "metadata": {},
   "outputs": [
    {
     "name": "stdout",
     "output_type": "stream",
     "text": [
      "4.0\n",
      "3.141592653589793\n"
     ]
    }
   ],
   "source": [
    "# Importing a standard Python library module\n",
    "import math\n",
    "\n",
    "# Using functions from the math module\n",
    "print(math.sqrt(16))\n",
    "print (math.pi)"
   ]
  },
  {
   "cell_type": "markdown",
   "id": "f562ddd0-563d-41b3-a6f6-c47f6a4c8cc8",
   "metadata": {},
   "source": [
    "### Writing Your First Python Function"
   ]
  },
  {
   "cell_type": "code",
   "execution_count": 5,
   "id": "0e75712d-b9b5-4a29-8b16-13efe15ad1ab",
   "metadata": {},
   "outputs": [
    {
     "name": "stdout",
     "output_type": "stream",
     "text": [
      "120\n"
     ]
    }
   ],
   "source": [
    "# A simple Python function to calculate the factorial of a number.\n",
    "# The factorial of a non-negative integer n is the product of all prositive integers less than or equal to n.\n",
    "def factorial(n):\n",
    "    \"\"\"This function returns the factorial of a given number.\"\"\"\n",
    "    if n == 0:\n",
    "        return 1\n",
    "    else:\n",
    "        return n * factorial(n - 1)\n",
    "\n",
    "# Calling the function\n",
    "print(factorial(5))"
   ]
  },
  {
   "cell_type": "markdown",
   "id": "6f605062-96d9-4de7-87e9-f4c9af05f51f",
   "metadata": {},
   "source": [
    "### Creating and Importing Your Own Module"
   ]
  },
  {
   "cell_type": "markdown",
   "id": "56e1c993-2b18-4d8e-acbd-a6c7bbf464fd",
   "metadata": {},
   "source": [
    "Learning_Python_Part_6_My_Module.py has been included as an additional file and it contains two functions:\n",
    "* add: returns the sum of two numbers.\n",
    "* subtract: returns the difference of two numbers."
   ]
  },
  {
   "cell_type": "markdown",
   "id": "1a5bf930-913b-4e68-92c4-f09b9b4c1fe3",
   "metadata": {},
   "source": [
    "## Learning Python: Part 7 - Introduction to Libraries NumPy and Pandas"
   ]
  },
  {
   "cell_type": "markdown",
   "id": "41570dd1-43a9-48b0-bf2a-2ada7519fcda",
   "metadata": {},
   "source": [
    "### Importing libraries"
   ]
  },
  {
   "cell_type": "markdown",
   "id": "66cfe096-5594-48c9-ad6c-55124e4f2f9e",
   "metadata": {},
   "source": [
    "To start using NumPy and Pandas, you first need to import them into your Python script. Here's how you can do that:"
   ]
  },
  {
   "cell_type": "code",
   "execution_count": 1,
   "id": "8bfb6c76-40d5-4302-8e2b-00814fb2886c",
   "metadata": {},
   "outputs": [],
   "source": [
    "import numpy as np\n",
    "import pandas as pd"
   ]
  },
  {
   "cell_type": "markdown",
   "id": "5675c0f8-1baf-4abf-9ee8-774d126f47b8",
   "metadata": {},
   "source": [
    "### Basic Usage of NumPy"
   ]
  },
  {
   "cell_type": "markdown",
   "id": "522e517c-4737-4fa8-b60b-04ce88881a9f",
   "metadata": {},
   "source": [
    "NumPy (Numerical Python) is a library used for numerical computations. It provides support for arrays, matrices, and many mathematical functions. NumPy is essential for performing numerical calculations in Python, especially in fields like data science, machine learning, and scientific computing.\n",
    "\n",
    "Let's create a simple array and perform basic operations using NumPy:"
   ]
  },
  {
   "cell_type": "code",
   "execution_count": 2,
   "id": "bc25eff7-1048-4367-b9cc-127d64954bea",
   "metadata": {},
   "outputs": [
    {
     "name": "stdout",
     "output_type": "stream",
     "text": [
      "Array:  [1 2 3 4 5]\n",
      "Sum:  15\n",
      "Mean:  3.0\n",
      "Standard Deviation:  1.4142135623730951\n"
     ]
    }
   ],
   "source": [
    "# Creating an array\n",
    "arr = np.array([1,2,3,4,5])\n",
    "\n",
    "# Performing operations\n",
    "print(\"Array: \", arr)\n",
    "print (\"Sum: \", np.sum(arr))\n",
    "print(\"Mean: \", np.mean(arr))\n",
    "print(\"Standard Deviation: \", np.std(arr))"
   ]
  },
  {
   "cell_type": "markdown",
   "id": "fc4eaee0-ac99-42a6-a802-69c3c6133d53",
   "metadata": {},
   "source": [
    "### Basic Usage of Pandas"
   ]
  },
  {
   "cell_type": "markdown",
   "id": "43969b48-0864-44df-afa2-fac68a1580e9",
   "metadata": {},
   "source": [
    "Pandas is a powerful library for data manipulation and analysis. It provides data structures like Series and DataFrame, which make it easy to handle structured data. With Pandas, you can perform operations like filtering, grouping, and merging datasets, making it an indispensable tool for data analysis.\n",
    "\n",
    "Now, let's create a DataFrame and perform some basic operations using Pandas:"
   ]
  },
  {
   "cell_type": "code",
   "execution_count": 3,
   "id": "108ae767-cf20-452f-bbfb-6aa888447dcf",
   "metadata": {},
   "outputs": [
    {
     "name": "stdout",
     "output_type": "stream",
     "text": [
      "DataFrame:\n",
      "       Name  Age      City\n",
      "0   Alison   24  New York\n",
      "1      Bob   27   Orlando\n",
      "2  Charlie   22   Chicago\n",
      "Mean Age: 24.333333333333332\n",
      "Cities:\n",
      " ['New York' 'Orlando' 'Chicago']\n"
     ]
    }
   ],
   "source": [
    "# Creating a DataFrame\n",
    "data = {'Name': ['Alison', 'Bob', 'Charlie'],\n",
    "        'Age': [24, 27, 22],\n",
    "        'City': ['New York', 'Orlando', 'Chicago']}\n",
    "\n",
    "df = pd.DataFrame(data)\n",
    "\n",
    "# Displaying the DataFrame\n",
    "print(\"DataFrame:\\n\", df)\n",
    "\n",
    "# Basic operations\n",
    "print(\"Mean Age:\", df['Age'].mean())\n",
    "print(\"Cities:\\n\", df['City'].unique())"
   ]
  },
  {
   "cell_type": "markdown",
   "id": "b560d87f-04b0-48e5-bd0d-ff3e1cbdc7f9",
   "metadata": {},
   "source": [
    "## Learning Python: Part 8 - Working with Data: NumPy Basics"
   ]
  },
  {
   "cell_type": "markdown",
   "id": "ac82077e-7a0f-40f8-8dfc-840481b6b2c9",
   "metadata": {},
   "source": [
    "### Creating and Manipulating Arrays"
   ]
  },
  {
   "cell_type": "markdown",
   "id": "07b3f563-01bb-4b2b-86e6-870e97c0720b",
   "metadata": {},
   "source": [
    "NumPy arrays are more efficient than Python lists for numerical operations."
   ]
  },
  {
   "cell_type": "code",
   "execution_count": 1,
   "id": "31c636e4-b75c-4d0a-830f-7c3a5415d1ac",
   "metadata": {},
   "outputs": [],
   "source": [
    "# Import Numpy\n",
    "import numpy as np"
   ]
  },
  {
   "cell_type": "code",
   "execution_count": 2,
   "id": "69ae2eb7-cc10-4d78-a9c7-a98ed20cd9a9",
   "metadata": {},
   "outputs": [
    {
     "name": "stdout",
     "output_type": "stream",
     "text": [
      "Array:  [1 2 3 4 5]\n"
     ]
    }
   ],
   "source": [
    "# Create a NumPy array\n",
    "array = np.array([1, 2, 3, 4, 5])\n",
    "print(\"Array: \", array)"
   ]
  },
  {
   "cell_type": "markdown",
   "id": "ebf1096b-a861-4bfe-a892-65488489b894",
   "metadata": {},
   "source": [
    "### Basic Array Operations"
   ]
  },
  {
   "cell_type": "markdown",
   "id": "e2926e53-4167-4b7e-a3f7-98d5da779d86",
   "metadata": {},
   "source": [
    "NumPy allows for a variety of operations on arrays, including mathematical computations and statistical operations."
   ]
  },
  {
   "cell_type": "code",
   "execution_count": 5,
   "id": "d6731e35-5661-48e6-b61c-577f3c4f2bb9",
   "metadata": {},
   "outputs": [
    {
     "name": "stdout",
     "output_type": "stream",
     "text": [
      "Sum:  [5 7 9]\n",
      "Mean:  2.0\n",
      "Reshaped Array:\n",
      " [[1]\n",
      " [2]\n",
      " [3]]\n"
     ]
    }
   ],
   "source": [
    "# Array operations\n",
    "array1 = np.array([1, 2, 3])\n",
    "array2 = np.array([4, 5, 6])\n",
    "\n",
    "# Addition\n",
    "sum_array = array1 + array2\n",
    "print(\"Sum: \", sum_array)\n",
    "\n",
    "# Mean\n",
    "mean_value = np.mean(array1)\n",
    "print(\"Mean: \", mean_value)\n",
    "\n",
    "# Reshape\n",
    "reshaped_array = array1.reshape((3, 1))\n",
    "print(\"Reshaped Array:\\n\", reshaped_array)"
   ]
  },
  {
   "cell_type": "markdown",
   "id": "6ff53178-0394-48a2-914f-03efe48d1199",
   "metadata": {},
   "source": [
    "### Practical Examples with NumPy"
   ]
  },
  {
   "cell_type": "markdown",
   "id": "730c2ca4-81d1-45b8-b27f-c486aca39aa3",
   "metadata": {},
   "source": [
    "Suppose you need to analyze a dataset of temperatures:"
   ]
  },
  {
   "cell_type": "code",
   "execution_count": 8,
   "id": "b0d6c1ed-b63d-40de-b877-3c608876ce59",
   "metadata": {},
   "outputs": [
    {
     "name": "stdout",
     "output_type": "stream",
     "text": [
      "Average Temperature:  24.16\n"
     ]
    }
   ],
   "source": [
    "temps = np.array([22.5, 24.0, 22.7, 24.3, 27.3])\n",
    "average_temp = np.mean(temps)\n",
    "print(\"Average Temperature: \", average_temp)"
   ]
  },
  {
   "cell_type": "markdown",
   "id": "35db50d7-ad3e-40e5-b9ca-2e133a030101",
   "metadata": {},
   "source": [
    "## Learning Python: Part 9 - Working with Data: Pandas Basics"
   ]
  },
  {
   "cell_type": "code",
   "execution_count": 1,
   "id": "37ee6eeb-d883-4b85-aba4-4a4583448ec3",
   "metadata": {},
   "outputs": [],
   "source": [
    "# Import Pandas\n",
    "import pandas as pd"
   ]
  },
  {
   "cell_type": "markdown",
   "id": "34a5fd3c-5b1a-4e44-a8f3-0e1290496413",
   "metadata": {},
   "source": [
    "### Introduction to Series and DataFrames"
   ]
  },
  {
   "cell_type": "markdown",
   "id": "55dbbcea-9b9d-4926-8c17-09c3ec2de082",
   "metadata": {},
   "source": [
    "Series and DataFrames are the two main data structures that are introduced by Pandas. A Series is a one-dimensional labeled array, while a DataFrame is a two-dimensional labeled data structure."
   ]
  },
  {
   "cell_type": "code",
   "execution_count": 2,
   "id": "a88f6358-9a4d-4225-b9eb-bb78328c68cc",
   "metadata": {},
   "outputs": [
    {
     "name": "stdout",
     "output_type": "stream",
     "text": [
      "Series:\n",
      " 0    1\n",
      "1    2\n",
      "2    3\n",
      "3    4\n",
      "4    5\n",
      "dtype: int64\n",
      "DataFrame:\n",
      "      Name  Age\n",
      "0  Amanda   25\n",
      "1    Bill   30\n",
      "2   Carol   35\n"
     ]
    }
   ],
   "source": [
    "# Create a Series\n",
    "series = pd.Series([1, 2, 3, 4, 5])\n",
    "print(\"Series:\\n\", series)\n",
    "\n",
    "# Create a DataFrame\n",
    "data = {'Name': ['Amanda', 'Bill', 'Carol'],\n",
    "        'Age': [25, 30, 35]}\n",
    "\n",
    "df = pd.DataFrame(data)\n",
    "print(\"DataFrame:\\n\", df)"
   ]
  },
  {
   "cell_type": "markdown",
   "id": "64442aab-9b32-423c-9216-31472b6e6a9e",
   "metadata": {},
   "source": [
    "### Reading Data from CSV or Excel Files"
   ]
  },
  {
   "cell_type": "markdown",
   "id": "cbe4cefd-f9d4-4db7-b6a4-e0f450f0b339",
   "metadata": {},
   "source": [
    "Pandas makes it easy to read data from various file formats such as CSV and Excel."
   ]
  },
  {
   "cell_type": "code",
   "execution_count": 17,
   "id": "e1c17deb-0c47-4e5f-a810-03b5777901e3",
   "metadata": {},
   "outputs": [],
   "source": [
    "# Read from CSV \n",
    "favorite_colors_df = pd.read_csv('Learning_Python_Part_9_Example_Colors.csv')\n",
    "\n",
    "# Read from Excel\n",
    "survey_df = pd.read_excel('Learning_Python_Part_9_Example_Survey.xlsx')"
   ]
  },
  {
   "cell_type": "markdown",
   "id": "ed9d19e6-e94d-4ca9-a397-a44d6ac7377f",
   "metadata": {},
   "source": [
    "### Basic Manipulation with Pandas"
   ]
  },
  {
   "cell_type": "markdown",
   "id": "b7466724-9bf4-4879-8b1f-7e4ea1e77fa8",
   "metadata": {},
   "source": [
    "Pandas provides powerful tools for data manipulation, including filtering, grouping, and summarizing data."
   ]
  },
  {
   "cell_type": "code",
   "execution_count": 10,
   "id": "fd4d85ed-07b0-4727-99fc-fdba4de5c18b",
   "metadata": {},
   "outputs": [
    {
     "data": {
      "text/html": [
       "<div>\n",
       "<style scoped>\n",
       "    .dataframe tbody tr th:only-of-type {\n",
       "        vertical-align: middle;\n",
       "    }\n",
       "\n",
       "    .dataframe tbody tr th {\n",
       "        vertical-align: top;\n",
       "    }\n",
       "\n",
       "    .dataframe thead th {\n",
       "        text-align: right;\n",
       "    }\n",
       "</style>\n",
       "<table border=\"1\" class=\"dataframe\">\n",
       "  <thead>\n",
       "    <tr style=\"text-align: right;\">\n",
       "      <th></th>\n",
       "      <th>id</th>\n",
       "      <th>name</th>\n",
       "      <th>age</th>\n",
       "      <th>favoriteColor</th>\n",
       "    </tr>\n",
       "  </thead>\n",
       "  <tbody>\n",
       "    <tr>\n",
       "      <th>0</th>\n",
       "      <td>1234</td>\n",
       "      <td>Bobby</td>\n",
       "      <td>30</td>\n",
       "      <td>Blue</td>\n",
       "    </tr>\n",
       "    <tr>\n",
       "      <th>1</th>\n",
       "      <td>2345</td>\n",
       "      <td>Susan</td>\n",
       "      <td>16</td>\n",
       "      <td>Orange</td>\n",
       "    </tr>\n",
       "    <tr>\n",
       "      <th>2</th>\n",
       "      <td>3456</td>\n",
       "      <td>Mirjana</td>\n",
       "      <td>29</td>\n",
       "      <td>Yellow</td>\n",
       "    </tr>\n",
       "  </tbody>\n",
       "</table>\n",
       "</div>"
      ],
      "text/plain": [
       "     id     name  age favoriteColor\n",
       "0  1234    Bobby   30          Blue\n",
       "1  2345    Susan   16        Orange\n",
       "2  3456  Mirjana   29        Yellow"
      ]
     },
     "execution_count": 10,
     "metadata": {},
     "output_type": "execute_result"
    }
   ],
   "source": [
    "# First, let's take a look at the first 3 rows of the favorite_colors_df\n",
    "favorite_colors_df.head(3)"
   ]
  },
  {
   "cell_type": "code",
   "execution_count": 11,
   "id": "0f28412e-1e75-4c08-9dac-f6eb731fc705",
   "metadata": {},
   "outputs": [
    {
     "data": {
      "text/html": [
       "<div>\n",
       "<style scoped>\n",
       "    .dataframe tbody tr th:only-of-type {\n",
       "        vertical-align: middle;\n",
       "    }\n",
       "\n",
       "    .dataframe tbody tr th {\n",
       "        vertical-align: top;\n",
       "    }\n",
       "\n",
       "    .dataframe thead th {\n",
       "        text-align: right;\n",
       "    }\n",
       "</style>\n",
       "<table border=\"1\" class=\"dataframe\">\n",
       "  <thead>\n",
       "    <tr style=\"text-align: right;\">\n",
       "      <th></th>\n",
       "      <th>id</th>\n",
       "      <th>name</th>\n",
       "      <th>age</th>\n",
       "      <th>favoriteColor</th>\n",
       "    </tr>\n",
       "  </thead>\n",
       "  <tbody>\n",
       "    <tr>\n",
       "      <th>5</th>\n",
       "      <td>6789</td>\n",
       "      <td>Gabrielle</td>\n",
       "      <td>21</td>\n",
       "      <td>Pink</td>\n",
       "    </tr>\n",
       "    <tr>\n",
       "      <th>6</th>\n",
       "      <td>7890</td>\n",
       "      <td>Gunter</td>\n",
       "      <td>11</td>\n",
       "      <td>Teal</td>\n",
       "    </tr>\n",
       "    <tr>\n",
       "      <th>7</th>\n",
       "      <td>8901</td>\n",
       "      <td>Woodrow</td>\n",
       "      <td>88</td>\n",
       "      <td>Red</td>\n",
       "    </tr>\n",
       "    <tr>\n",
       "      <th>8</th>\n",
       "      <td>9012</td>\n",
       "      <td>Tom</td>\n",
       "      <td>64</td>\n",
       "      <td>Blue</td>\n",
       "    </tr>\n",
       "    <tr>\n",
       "      <th>9</th>\n",
       "      <td>9999</td>\n",
       "      <td>Abigail</td>\n",
       "      <td>14</td>\n",
       "      <td>Purple</td>\n",
       "    </tr>\n",
       "  </tbody>\n",
       "</table>\n",
       "</div>"
      ],
      "text/plain": [
       "     id       name  age favoriteColor\n",
       "5  6789  Gabrielle   21          Pink\n",
       "6  7890     Gunter   11          Teal\n",
       "7  8901    Woodrow   88           Red\n",
       "8  9012        Tom   64          Blue\n",
       "9  9999    Abigail   14        Purple"
      ]
     },
     "execution_count": 11,
     "metadata": {},
     "output_type": "execute_result"
    }
   ],
   "source": [
    "# Now, let's examine the last 5 rows of the same df by using tail instead of head\n",
    "favorite_colors_df.tail() # 5 is the default value if no value is provided"
   ]
  },
  {
   "cell_type": "code",
   "execution_count": 14,
   "id": "d4911362-543d-4ca1-ab5b-bf111ca4fd47",
   "metadata": {},
   "outputs": [
    {
     "name": "stdout",
     "output_type": "stream",
     "text": [
      "Filtered DataFrame:\n",
      "      id       name  age favoriteColor\n",
      "0  1234      Bobby   30          Blue\n",
      "2  3456    Mirjana   29        Yellow\n",
      "3  4567     Nikola   64           Red\n",
      "4  5678      Louis   52     Turquoise\n",
      "5  6789  Gabrielle   21          Pink\n",
      "7  8901    Woodrow   88           Red\n",
      "8  9012        Tom   64          Blue\n"
     ]
    }
   ],
   "source": [
    "# Example of filtering data\n",
    "filtered_color_df = favorite_colors_df[favorite_colors_df['age'] > 20]\n",
    "print(\"Filtered DataFrame:\\n\", filtered_color_df)"
   ]
  },
  {
   "cell_type": "code",
   "execution_count": 16,
   "id": "18ba8bf3-50d8-4f78-8def-3bfeb1776b5c",
   "metadata": {},
   "outputs": [
    {
     "name": "stdout",
     "output_type": "stream",
     "text": [
      "Grouped DataFrame:\n",
      " favoriteColor\n",
      "Blue         2\n",
      "Orange       1\n",
      "Pink         1\n",
      "Purple       1\n",
      "Red          2\n",
      "Teal         1\n",
      "Turquoise    1\n",
      "Yellow       1\n",
      "dtype: int64\n"
     ]
    }
   ],
   "source": [
    "# Example of grouping data\n",
    "grouped_color_df = favorite_colors_df.groupby('favoriteColor').size()\n",
    "print(\"Grouped DataFrame:\\n\", grouped_color_df)"
   ]
  },
  {
   "cell_type": "markdown",
   "id": "da85db55-1ab3-4a5c-b30a-62000ccd473f",
   "metadata": {},
   "source": [
    "### Melt and Pivot with Survey Data"
   ]
  },
  {
   "cell_type": "markdown",
   "id": "3b13e7eb-6b68-4e85-91bb-fb807e092398",
   "metadata": {},
   "source": [
    "Pandas' melt and pivot functions are useful for reshaping data. Here's an example using the survey data we read in earlier via the excel file."
   ]
  },
  {
   "cell_type": "code",
   "execution_count": 18,
   "id": "06431da5-a5c4-492d-b349-613332f8f4b0",
   "metadata": {},
   "outputs": [
    {
     "data": {
      "text/html": [
       "<div>\n",
       "<style scoped>\n",
       "    .dataframe tbody tr th:only-of-type {\n",
       "        vertical-align: middle;\n",
       "    }\n",
       "\n",
       "    .dataframe tbody tr th {\n",
       "        vertical-align: top;\n",
       "    }\n",
       "\n",
       "    .dataframe thead th {\n",
       "        text-align: right;\n",
       "    }\n",
       "</style>\n",
       "<table border=\"1\" class=\"dataframe\">\n",
       "  <thead>\n",
       "    <tr style=\"text-align: right;\">\n",
       "      <th></th>\n",
       "      <th>ID</th>\n",
       "      <th>Name</th>\n",
       "      <th>Q1</th>\n",
       "      <th>Q2</th>\n",
       "      <th>Q3</th>\n",
       "      <th>Q4</th>\n",
       "      <th>Q5</th>\n",
       "    </tr>\n",
       "  </thead>\n",
       "  <tbody>\n",
       "    <tr>\n",
       "      <th>0</th>\n",
       "      <td>1000</td>\n",
       "      <td>Bogdan</td>\n",
       "      <td>1</td>\n",
       "      <td>5</td>\n",
       "      <td>2</td>\n",
       "      <td>4</td>\n",
       "      <td>4</td>\n",
       "    </tr>\n",
       "    <tr>\n",
       "      <th>1</th>\n",
       "      <td>1001</td>\n",
       "      <td>Alejandro</td>\n",
       "      <td>3</td>\n",
       "      <td>4</td>\n",
       "      <td>4</td>\n",
       "      <td>5</td>\n",
       "      <td>4</td>\n",
       "    </tr>\n",
       "    <tr>\n",
       "      <th>2</th>\n",
       "      <td>1002</td>\n",
       "      <td>Will</td>\n",
       "      <td>4</td>\n",
       "      <td>3</td>\n",
       "      <td>5</td>\n",
       "      <td>2</td>\n",
       "      <td>3</td>\n",
       "    </tr>\n",
       "    <tr>\n",
       "      <th>3</th>\n",
       "      <td>1003</td>\n",
       "      <td>Anastasia</td>\n",
       "      <td>2</td>\n",
       "      <td>2</td>\n",
       "      <td>2</td>\n",
       "      <td>4</td>\n",
       "      <td>5</td>\n",
       "    </tr>\n",
       "    <tr>\n",
       "      <th>4</th>\n",
       "      <td>1004</td>\n",
       "      <td>Henrietta</td>\n",
       "      <td>5</td>\n",
       "      <td>3</td>\n",
       "      <td>1</td>\n",
       "      <td>3</td>\n",
       "      <td>1</td>\n",
       "    </tr>\n",
       "  </tbody>\n",
       "</table>\n",
       "</div>"
      ],
      "text/plain": [
       "     ID       Name  Q1  Q2  Q3  Q4  Q5\n",
       "0  1000     Bogdan   1   5   2   4   4\n",
       "1  1001  Alejandro   3   4   4   5   4\n",
       "2  1002       Will   4   3   5   2   3\n",
       "3  1003  Anastasia   2   2   2   4   5\n",
       "4  1004  Henrietta   5   3   1   3   1"
      ]
     },
     "execution_count": 18,
     "metadata": {},
     "output_type": "execute_result"
    }
   ],
   "source": [
    "# Examine the data\n",
    "survey_df.head()"
   ]
  },
  {
   "cell_type": "code",
   "execution_count": 20,
   "id": "6403296e-6f19-497c-99e4-483a6f0fd508",
   "metadata": {},
   "outputs": [
    {
     "name": "stdout",
     "output_type": "stream",
     "text": [
      "Melted DataFrame:\n",
      "       ID       Name Question  Score\n",
      "0   1000     Bogdan       Q1      1\n",
      "1   1001  Alejandro       Q1      3\n",
      "2   1002       Will       Q1      4\n",
      "3   1003  Anastasia       Q1      2\n",
      "4   1004  Henrietta       Q1      5\n",
      "..   ...        ...      ...    ...\n",
      "70  1010       Ozan       Q5      4\n",
      "71  1011    Alberto       Q5      5\n",
      "72  1012     Darius       Q5      4\n",
      "73  1013   Penelope       Q5      5\n",
      "74  1014   Katerina       Q5      4\n",
      "\n",
      "[75 rows x 4 columns]\n",
      "Pivoted DataFrame:\n",
      " Question        Q1  Q2  Q3  Q4  Q5\n",
      "ID   Name                         \n",
      "1000 Bogdan      1   5   2   4   4\n",
      "1001 Alejandro   3   4   4   5   4\n",
      "1002 Will        4   3   5   2   3\n",
      "1003 Anastasia   2   2   2   4   5\n",
      "1004 Henrietta   5   3   1   3   1\n",
      "1005 James       5   5   3   5   2\n",
      "1006 Barbara     4   4   5   4   5\n",
      "1007 Beatrice    1   5   4   5   4\n",
      "1008 Amira       2   5   2   4   3\n",
      "1009 Boris       3   5   4   5   5\n",
      "1010 Ozan        3   5   5   1   4\n",
      "1011 Alberto     3   5   3   5   5\n",
      "1012 Darius      5   5   1   4   4\n",
      "1013 Penelope    5   5   3   1   5\n",
      "1014 Katerina    5   5   5   5   4\n"
     ]
    }
   ],
   "source": [
    "# Melt the DataFrame from wide to long format\n",
    "melted_survey_df = pd.melt(survey_df, id_vars=['ID','Name'], var_name='Question', value_name = 'Score')\n",
    "print(\"Melted DataFrame:\\n\",melted_survey_df)\n",
    "\n",
    "# Pivot the DataFrame back from long to wide format\n",
    "pivoted_survey_df = melted_survey_df.pivot(index=['ID', 'Name'], columns='Question', values = 'Score')\n",
    "print(\"Pivoted DataFrame:\\n\", pivoted_survey_df)\n"
   ]
  },
  {
   "cell_type": "code",
   "execution_count": null,
   "id": "911c9ee2-b325-4791-8df9-8559197f5c0d",
   "metadata": {},
   "outputs": [],
   "source": []
  }
 ],
 "metadata": {
  "kernelspec": {
   "display_name": "Python 3 (ipykernel)",
   "language": "python",
   "name": "python3"
  },
  "language_info": {
   "codemirror_mode": {
    "name": "ipython",
    "version": 3
   },
   "file_extension": ".py",
   "mimetype": "text/x-python",
   "name": "python",
   "nbconvert_exporter": "python",
   "pygments_lexer": "ipython3",
   "version": "3.12.3"
  }
 },
 "nbformat": 4,
 "nbformat_minor": 5
}
