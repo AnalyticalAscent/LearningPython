{
 "cells": [
  {
   "cell_type": "markdown",
   "id": "873de398-37bd-4600-9023-3a485a9d626c",
   "metadata": {},
   "source": [
    "# Learning Python"
   ]
  },
  {
   "cell_type": "markdown",
   "id": "44d74a72-ef4e-4050-9820-57a6178812a1",
   "metadata": {},
   "source": [
    "This is the comphrensive companion notebook for our Analytical Ascent: Learning Python blog series which can be found on our website at the link [here](https://analyticalascent.com/python-for-beginners-data-science/). The sections that follow have Part numbers that correspond to the associated blog post to simplify referencing back and forth.\n"
   ]
  },
  {
   "cell_type": "markdown",
   "id": "7e9820f6-3f9b-4c85-b7fe-1d70af4d3058",
   "metadata": {},
   "source": [
    "## Learning Python: Part 5 - Variables and Loops"
   ]
  },
  {
   "cell_type": "markdown",
   "id": "7fc165ea-36d5-45a4-aa91-c80ba9e26b5a",
   "metadata": {},
   "source": [
    "### Variables: Basic units of storage."
   ]
  },
  {
   "cell_type": "code",
   "execution_count": 1,
   "id": "ef29ec90-2757-47b8-a4b2-197297e86288",
   "metadata": {},
   "outputs": [],
   "source": [
    "# Setting the x variable equal to 10\n",
    "x = 10\n",
    "\n",
    "# Setting the first_name variable equal to Alice\n",
    "first_name = \"Alice\""
   ]
  },
  {
   "cell_type": "code",
   "execution_count": 2,
   "id": "6b7fe82f-90ce-4981-aa20-5292f594b0b5",
   "metadata": {},
   "outputs": [
    {
     "name": "stdout",
     "output_type": "stream",
     "text": [
      "10\n"
     ]
    }
   ],
   "source": [
    "print(x)"
   ]
  },
  {
   "cell_type": "code",
   "execution_count": 3,
   "id": "5d2d5b53-2fa2-4263-ae85-95feb47fbc6b",
   "metadata": {},
   "outputs": [
    {
     "name": "stdout",
     "output_type": "stream",
     "text": [
      "Alice\n"
     ]
    }
   ],
   "source": [
    "print(first_name)"
   ]
  },
  {
   "cell_type": "markdown",
   "id": "6c664df0-70f1-4ace-b705-bcc2b4036d60",
   "metadata": {},
   "source": [
    "### Data Types in Python"
   ]
  },
  {
   "cell_type": "markdown",
   "id": "66652f73-97a5-4821-8d31-4abcc865ca37",
   "metadata": {},
   "source": [
    "#### Integers: Whole numbers without a decimal point."
   ]
  },
  {
   "cell_type": "code",
   "execution_count": 4,
   "id": "0b4612c6-2963-40d9-be75-4479f7f02efc",
   "metadata": {},
   "outputs": [],
   "source": [
    "age = 25"
   ]
  },
  {
   "cell_type": "markdown",
   "id": "a4257129-afce-419e-8db6-00ed449aad5f",
   "metadata": {},
   "source": [
    "#### Floats: Numbers with a decimal point."
   ]
  },
  {
   "cell_type": "code",
   "execution_count": 5,
   "id": "2f64047f-5ea6-4e9c-9c87-61fe3ceae824",
   "metadata": {},
   "outputs": [],
   "source": [
    "temperature = 98.6"
   ]
  },
  {
   "cell_type": "markdown",
   "id": "3bf8a179-4c42-4b46-a933-dd826fa5ef21",
   "metadata": {},
   "source": [
    "#### Strings: Sequances of characters enclosed in quotes."
   ]
  },
  {
   "cell_type": "code",
   "execution_count": 6,
   "id": "653cba76-1b38-467c-be9b-d792aeb6c3bb",
   "metadata": {},
   "outputs": [],
   "source": [
    "greeting = \"Hello, World!\""
   ]
  },
  {
   "cell_type": "markdown",
   "id": "c2b004c7-b444-46cd-bdb9-a2ac68a02104",
   "metadata": {},
   "source": [
    "#### Lists: Ordered collections of items, which can be of different data types."
   ]
  },
  {
   "cell_type": "code",
   "execution_count": 7,
   "id": "61e855ee-c67d-47c6-9a46-81f1b419388b",
   "metadata": {},
   "outputs": [],
   "source": [
    "fruits = [\"apple\", \"banana\", \"cherry\"]"
   ]
  },
  {
   "cell_type": "markdown",
   "id": "60550d17-7785-4dc5-9ce3-4e9e8e759cc6",
   "metadata": {},
   "source": [
    "#### Dictionaries: Collections of key-value pairs."
   ]
  },
  {
   "cell_type": "code",
   "execution_count": 8,
   "id": "56f67ad0-e8f8-4d3c-8c55-117ea0306e36",
   "metadata": {},
   "outputs": [],
   "source": [
    "person = {\"name\": \"Alice\", \"age\":30}"
   ]
  },
  {
   "cell_type": "markdown",
   "id": "1b615e95-f6aa-4591-b2c6-ae42d2bffd25",
   "metadata": {},
   "source": [
    "#### Sets: Unordered collections of unique items"
   ]
  },
  {
   "cell_type": "code",
   "execution_count": 9,
   "id": "c5999e33-6dc6-4e0c-a76c-98f8f1c68ae2",
   "metadata": {},
   "outputs": [],
   "source": [
    "unique_numbers = {1, 2, 3, 4, 5}"
   ]
  },
  {
   "cell_type": "markdown",
   "id": "62d5af24-dc56-4699-bd6e-21e8241e4e88",
   "metadata": {},
   "source": [
    "#### Booleans: True or False values."
   ]
  },
  {
   "cell_type": "code",
   "execution_count": 10,
   "id": "0565cded-46b8-4ad0-949c-58388c2ee14e",
   "metadata": {},
   "outputs": [],
   "source": [
    "is_student = True"
   ]
  },
  {
   "cell_type": "markdown",
   "id": "5f84100e-6066-4505-bbfe-434eeaaf317d",
   "metadata": {},
   "source": [
    "### Boolean Variables and Operators"
   ]
  },
  {
   "cell_type": "code",
   "execution_count": 11,
   "id": "6e865889-acde-472e-87f1-6712a007687f",
   "metadata": {},
   "outputs": [
    {
     "name": "stdout",
     "output_type": "stream",
     "text": [
      "False\n",
      "True\n",
      "False\n"
     ]
    }
   ],
   "source": [
    "is_raining = True\n",
    "is_sunny = False\n",
    "\n",
    "# Boolean operators\n",
    "print(is_raining and is_sunny) # False\n",
    "print(is_raining or is_sunny) # True\n",
    "print(not is_raining) # False\n"
   ]
  },
  {
   "cell_type": "markdown",
   "id": "33537c86-60b5-40b3-a2c8-e75c1d64753f",
   "metadata": {},
   "source": [
    "### While Loop"
   ]
  },
  {
   "cell_type": "code",
   "execution_count": 12,
   "id": "344dd68e-3b5a-4d2f-a5c0-75c733aa56fe",
   "metadata": {},
   "outputs": [
    {
     "name": "stdout",
     "output_type": "stream",
     "text": [
      "Counting: 0\n",
      "Counting: 1\n",
      "Counting: 2\n",
      "Counting: 3\n",
      "Counting: 4\n"
     ]
    }
   ],
   "source": [
    "count = 0\n",
    "while count < 5:\n",
    "    print(\"Counting:\", count)\n",
    "    count += 1 #increment count by 1"
   ]
  },
  {
   "cell_type": "markdown",
   "id": "b9134010-f28d-4ccd-8892-d1b295851a97",
   "metadata": {},
   "source": [
    "### For Loop"
   ]
  },
  {
   "cell_type": "code",
   "execution_count": 13,
   "id": "a76d76df-35be-459c-b894-d7009310d6b8",
   "metadata": {},
   "outputs": [
    {
     "name": "stdout",
     "output_type": "stream",
     "text": [
      "apple\n",
      "banana\n",
      "cherry\n"
     ]
    }
   ],
   "source": [
    "fruits = [\"apple\", \"banana\", \"cherry\"]\n",
    "for fruit in fruits:\n",
    "    print(fruit)"
   ]
  },
  {
   "cell_type": "markdown",
   "id": "7ee30913-95a8-4aee-9c55-549e82276415",
   "metadata": {},
   "source": [
    "### If Statement"
   ]
  },
  {
   "cell_type": "code",
   "execution_count": 14,
   "id": "75c5b090-58d9-4376-b493-f45dceb5279c",
   "metadata": {},
   "outputs": [
    {
     "name": "stdout",
     "output_type": "stream",
     "text": [
      "x is greater than 5\n"
     ]
    }
   ],
   "source": [
    "x = 10\n",
    "if x > 5:\n",
    "    print(\"x is greater than 5\")\n",
    "else:\n",
    "    print(\"x is 5 or less\")"
   ]
  },
  {
   "cell_type": "markdown",
   "id": "b2654176-a988-4baf-bf11-ccac1a70e248",
   "metadata": {},
   "source": [
    "### Code Indentation in Python"
   ]
  },
  {
   "cell_type": "code",
   "execution_count": 15,
   "id": "1e786736-fbd8-4658-a545-15b076311a56",
   "metadata": {},
   "outputs": [
    {
     "name": "stdout",
     "output_type": "stream",
     "text": [
      "This is indented\n"
     ]
    }
   ],
   "source": [
    "# Each level of indentation represents a new block of code. Consistency in using either spaces or tabs for indentation is important to avoid errors.\n",
    "if x > 5:\n",
    "    print(\"This is indented\")\n",
    "    if x > 10:\n",
    "        print(\"This is further indented\")"
   ]
  },
  {
   "cell_type": "markdown",
   "id": "d2ad492f-5212-47d5-9b6a-ef02cae25f48",
   "metadata": {},
   "source": [
    "## Learning Python - Part 6: Functions and Modules"
   ]
  },
  {
   "cell_type": "markdown",
   "id": "fde9497a-63de-430d-ae69-c6692d2f539e",
   "metadata": {},
   "source": [
    "### Defining and Using Functions"
   ]
  },
  {
   "cell_type": "code",
   "execution_count": 16,
   "id": "3dfe5ee2-79e6-4da5-bf12-ca3fe37458ce",
   "metadata": {},
   "outputs": [],
   "source": [
    "# Define a function using the 'def' keywork, followed by the function name and parentheses.\n",
    "def greet(name):\n",
    "    \"\"\"This function greets the person whose name is passed as an argument.\"\"\"\n",
    "    print(f\"Hello, {name}!\")"
   ]
  },
  {
   "cell_type": "code",
   "execution_count": 17,
   "id": "564623ee-ff7b-4033-b4cb-61471ecff89a",
   "metadata": {},
   "outputs": [
    {
     "name": "stdout",
     "output_type": "stream",
     "text": [
      "Hello, Alice!\n"
     ]
    }
   ],
   "source": [
    "# Calling the function\n",
    "greet(\"Alice\")"
   ]
  },
  {
   "cell_type": "code",
   "execution_count": 18,
   "id": "bb3a12cb-6b2b-4738-a285-f4053091e86d",
   "metadata": {},
   "outputs": [
    {
     "name": "stdout",
     "output_type": "stream",
     "text": [
      "Hello, Bob!\n"
     ]
    }
   ],
   "source": [
    "# Calling the function with a different name argument\n",
    "greet(\"Bob\")"
   ]
  },
  {
   "cell_type": "markdown",
   "id": "893c085c-5b0d-4676-b5a7-a7316ec1303c",
   "metadata": {},
   "source": [
    "### Importing and Using Modules"
   ]
  },
  {
   "cell_type": "code",
   "execution_count": 19,
   "id": "9077befb-fdcb-45c5-8582-689864a6ceea",
   "metadata": {},
   "outputs": [
    {
     "name": "stdout",
     "output_type": "stream",
     "text": [
      "4.0\n",
      "3.141592653589793\n"
     ]
    }
   ],
   "source": [
    "# Importing a standard Python library module\n",
    "import math\n",
    "\n",
    "# Using functions from the math module\n",
    "print(math.sqrt(16))\n",
    "print (math.pi)"
   ]
  },
  {
   "cell_type": "markdown",
   "id": "f562ddd0-563d-41b3-a6f6-c47f6a4c8cc8",
   "metadata": {},
   "source": [
    "### Writing Your First Python Function"
   ]
  },
  {
   "cell_type": "code",
   "execution_count": 20,
   "id": "0e75712d-b9b5-4a29-8b16-13efe15ad1ab",
   "metadata": {},
   "outputs": [
    {
     "name": "stdout",
     "output_type": "stream",
     "text": [
      "120\n"
     ]
    }
   ],
   "source": [
    "# A simple Python function to calculate the factorial of a number.\n",
    "# The factorial of a non-negative integer n is the product of all prositive integers less than or equal to n.\n",
    "def factorial(n):\n",
    "    \"\"\"This function returns the factorial of a given number.\"\"\"\n",
    "    if n == 0:\n",
    "        return 1\n",
    "    else:\n",
    "        return n * factorial(n - 1)\n",
    "\n",
    "# Calling the function\n",
    "print(factorial(5))"
   ]
  },
  {
   "cell_type": "markdown",
   "id": "6f605062-96d9-4de7-87e9-f4c9af05f51f",
   "metadata": {},
   "source": [
    "### Creating and Importing Your Own Module"
   ]
  },
  {
   "cell_type": "markdown",
   "id": "56e1c993-2b18-4d8e-acbd-a6c7bbf464fd",
   "metadata": {},
   "source": [
    "Learning_Python_Part_6_My_Module.py has been included as an additional file and it contains two functions:\n",
    "* add: returns the sum of two numbers.\n",
    "* subtract: returns the difference of two numbers."
   ]
  },
  {
   "cell_type": "markdown",
   "id": "1a5bf930-913b-4e68-92c4-f09b9b4c1fe3",
   "metadata": {},
   "source": [
    "## Learning Python: Part 7 - Introduction to Libraries NumPy and Pandas"
   ]
  },
  {
   "cell_type": "markdown",
   "id": "41570dd1-43a9-48b0-bf2a-2ada7519fcda",
   "metadata": {},
   "source": [
    "### Importing libraries"
   ]
  },
  {
   "cell_type": "markdown",
   "id": "66cfe096-5594-48c9-ad6c-55124e4f2f9e",
   "metadata": {},
   "source": [
    "To start using NumPy and Pandas, you first need to import them into your Python script. Here's how you can do that:"
   ]
  },
  {
   "cell_type": "code",
   "execution_count": 21,
   "id": "8bfb6c76-40d5-4302-8e2b-00814fb2886c",
   "metadata": {},
   "outputs": [],
   "source": [
    "import numpy as np\n",
    "import pandas as pd"
   ]
  },
  {
   "cell_type": "markdown",
   "id": "5675c0f8-1baf-4abf-9ee8-774d126f47b8",
   "metadata": {},
   "source": [
    "### Basic Usage of NumPy"
   ]
  },
  {
   "cell_type": "markdown",
   "id": "522e517c-4737-4fa8-b60b-04ce88881a9f",
   "metadata": {},
   "source": [
    "NumPy (Numerical Python) is a library used for numerical computations. It provides support for arrays, matrices, and many mathematical functions. NumPy is essential for performing numerical calculations in Python, especially in fields like data science, machine learning, and scientific computing.\n",
    "\n",
    "Let's create a simple array and perform basic operations using NumPy:"
   ]
  },
  {
   "cell_type": "code",
   "execution_count": 22,
   "id": "bc25eff7-1048-4367-b9cc-127d64954bea",
   "metadata": {},
   "outputs": [
    {
     "name": "stdout",
     "output_type": "stream",
     "text": [
      "Array:  [1 2 3 4 5]\n",
      "Sum:  15\n",
      "Mean:  3.0\n",
      "Standard Deviation:  1.4142135623730951\n"
     ]
    }
   ],
   "source": [
    "# Creating an array\n",
    "arr = np.array([1,2,3,4,5])\n",
    "\n",
    "# Performing operations\n",
    "print(\"Array: \", arr)\n",
    "print (\"Sum: \", np.sum(arr))\n",
    "print(\"Mean: \", np.mean(arr))\n",
    "print(\"Standard Deviation: \", np.std(arr))"
   ]
  },
  {
   "cell_type": "markdown",
   "id": "fc4eaee0-ac99-42a6-a802-69c3c6133d53",
   "metadata": {},
   "source": [
    "### Basic Usage of Pandas"
   ]
  },
  {
   "cell_type": "markdown",
   "id": "43969b48-0864-44df-afa2-fac68a1580e9",
   "metadata": {},
   "source": [
    "Pandas is a powerful library for data manipulation and analysis. It provides data structures like Series and DataFrame, which make it easy to handle structured data. With Pandas, you can perform operations like filtering, grouping, and merging datasets, making it an indispensable tool for data analysis.\n",
    "\n",
    "Now, let's create a DataFrame and perform some basic operations using Pandas:"
   ]
  },
  {
   "cell_type": "code",
   "execution_count": 23,
   "id": "108ae767-cf20-452f-bbfb-6aa888447dcf",
   "metadata": {},
   "outputs": [
    {
     "name": "stdout",
     "output_type": "stream",
     "text": [
      "DataFrame:\n",
      "       Name  Age      City\n",
      "0   Alison   24  New York\n",
      "1      Bob   27   Orlando\n",
      "2  Charlie   22   Chicago\n",
      "Mean Age: 24.333333333333332\n",
      "Cities:\n",
      " ['New York' 'Orlando' 'Chicago']\n"
     ]
    }
   ],
   "source": [
    "# Creating a DataFrame\n",
    "data = {'Name': ['Alison', 'Bob', 'Charlie'],\n",
    "        'Age': [24, 27, 22],\n",
    "        'City': ['New York', 'Orlando', 'Chicago']}\n",
    "\n",
    "df = pd.DataFrame(data)\n",
    "\n",
    "# Displaying the DataFrame\n",
    "print(\"DataFrame:\\n\", df)\n",
    "\n",
    "# Basic operations\n",
    "print(\"Mean Age:\", df['Age'].mean())\n",
    "print(\"Cities:\\n\", df['City'].unique())"
   ]
  },
  {
   "cell_type": "markdown",
   "id": "b560d87f-04b0-48e5-bd0d-ff3e1cbdc7f9",
   "metadata": {},
   "source": [
    "## Learning Python: Part 8 - Working with Data: NumPy Basics"
   ]
  },
  {
   "cell_type": "markdown",
   "id": "ac82077e-7a0f-40f8-8dfc-840481b6b2c9",
   "metadata": {},
   "source": [
    "### Creating and Manipulating Arrays"
   ]
  },
  {
   "cell_type": "markdown",
   "id": "07b3f563-01bb-4b2b-86e6-870e97c0720b",
   "metadata": {},
   "source": [
    "NumPy arrays are more efficient than Python lists for numerical operations."
   ]
  },
  {
   "cell_type": "code",
   "execution_count": 24,
   "id": "31c636e4-b75c-4d0a-830f-7c3a5415d1ac",
   "metadata": {},
   "outputs": [],
   "source": [
    "# Import Numpy\n",
    "import numpy as np"
   ]
  },
  {
   "cell_type": "code",
   "execution_count": 25,
   "id": "69ae2eb7-cc10-4d78-a9c7-a98ed20cd9a9",
   "metadata": {},
   "outputs": [
    {
     "name": "stdout",
     "output_type": "stream",
     "text": [
      "Array:  [1 2 3 4 5]\n"
     ]
    }
   ],
   "source": [
    "# Create a NumPy array\n",
    "array = np.array([1, 2, 3, 4, 5])\n",
    "print(\"Array: \", array)"
   ]
  },
  {
   "cell_type": "markdown",
   "id": "ebf1096b-a861-4bfe-a892-65488489b894",
   "metadata": {},
   "source": [
    "### Basic Array Operations"
   ]
  },
  {
   "cell_type": "markdown",
   "id": "e2926e53-4167-4b7e-a3f7-98d5da779d86",
   "metadata": {},
   "source": [
    "NumPy allows for a variety of operations on arrays, including mathematical computations and statistical operations."
   ]
  },
  {
   "cell_type": "code",
   "execution_count": 26,
   "id": "d6731e35-5661-48e6-b61c-577f3c4f2bb9",
   "metadata": {},
   "outputs": [
    {
     "name": "stdout",
     "output_type": "stream",
     "text": [
      "Sum:  [5 7 9]\n",
      "Mean:  2.0\n",
      "Reshaped Array:\n",
      " [[1]\n",
      " [2]\n",
      " [3]]\n"
     ]
    }
   ],
   "source": [
    "# Array operations\n",
    "array1 = np.array([1, 2, 3])\n",
    "array2 = np.array([4, 5, 6])\n",
    "\n",
    "# Addition\n",
    "sum_array = array1 + array2\n",
    "print(\"Sum: \", sum_array)\n",
    "\n",
    "# Mean\n",
    "mean_value = np.mean(array1)\n",
    "print(\"Mean: \", mean_value)\n",
    "\n",
    "# Reshape\n",
    "reshaped_array = array1.reshape((3, 1))\n",
    "print(\"Reshaped Array:\\n\", reshaped_array)"
   ]
  },
  {
   "cell_type": "markdown",
   "id": "6ff53178-0394-48a2-914f-03efe48d1199",
   "metadata": {},
   "source": [
    "### Practical Examples with NumPy"
   ]
  },
  {
   "cell_type": "markdown",
   "id": "730c2ca4-81d1-45b8-b27f-c486aca39aa3",
   "metadata": {},
   "source": [
    "Suppose you need to analyze a dataset of temperatures:"
   ]
  },
  {
   "cell_type": "code",
   "execution_count": 27,
   "id": "b0d6c1ed-b63d-40de-b877-3c608876ce59",
   "metadata": {},
   "outputs": [
    {
     "name": "stdout",
     "output_type": "stream",
     "text": [
      "Average Temperature:  24.16\n"
     ]
    }
   ],
   "source": [
    "temps = np.array([22.5, 24.0, 22.7, 24.3, 27.3])\n",
    "average_temp = np.mean(temps)\n",
    "print(\"Average Temperature: \", average_temp)"
   ]
  },
  {
   "cell_type": "markdown",
   "id": "35db50d7-ad3e-40e5-b9ca-2e133a030101",
   "metadata": {},
   "source": [
    "## Learning Python: Part 9 - Working with Data: Pandas Basics"
   ]
  },
  {
   "cell_type": "code",
   "execution_count": 28,
   "id": "37ee6eeb-d883-4b85-aba4-4a4583448ec3",
   "metadata": {},
   "outputs": [],
   "source": [
    "# Import Pandas\n",
    "import pandas as pd"
   ]
  },
  {
   "cell_type": "markdown",
   "id": "34a5fd3c-5b1a-4e44-a8f3-0e1290496413",
   "metadata": {},
   "source": [
    "### Introduction to Series and DataFrames"
   ]
  },
  {
   "cell_type": "markdown",
   "id": "55dbbcea-9b9d-4926-8c17-09c3ec2de082",
   "metadata": {},
   "source": [
    "Series and DataFrames are the two main data structures that are introduced by Pandas. A Series is a one-dimensional labeled array, while a DataFrame is a two-dimensional labeled data structure."
   ]
  },
  {
   "cell_type": "code",
   "execution_count": 29,
   "id": "a88f6358-9a4d-4225-b9eb-bb78328c68cc",
   "metadata": {},
   "outputs": [
    {
     "name": "stdout",
     "output_type": "stream",
     "text": [
      "Series:\n",
      " 0    1\n",
      "1    2\n",
      "2    3\n",
      "3    4\n",
      "4    5\n",
      "dtype: int64\n",
      "DataFrame:\n",
      "      Name  Age\n",
      "0  Amanda   25\n",
      "1    Bill   30\n",
      "2   Carol   35\n"
     ]
    }
   ],
   "source": [
    "# Create a Series\n",
    "series = pd.Series([1, 2, 3, 4, 5])\n",
    "print(\"Series:\\n\", series)\n",
    "\n",
    "# Create a DataFrame\n",
    "data = {'Name': ['Amanda', 'Bill', 'Carol'],\n",
    "        'Age': [25, 30, 35]}\n",
    "\n",
    "df = pd.DataFrame(data)\n",
    "print(\"DataFrame:\\n\", df)"
   ]
  },
  {
   "cell_type": "markdown",
   "id": "64442aab-9b32-423c-9216-31472b6e6a9e",
   "metadata": {},
   "source": [
    "### Reading Data from CSV or Excel Files"
   ]
  },
  {
   "cell_type": "markdown",
   "id": "cbe4cefd-f9d4-4db7-b6a4-e0f450f0b339",
   "metadata": {},
   "source": [
    "Pandas makes it easy to read data from various file formats such as CSV and Excel."
   ]
  },
  {
   "cell_type": "code",
   "execution_count": 30,
   "id": "e1c17deb-0c47-4e5f-a810-03b5777901e3",
   "metadata": {},
   "outputs": [],
   "source": [
    "# Read from CSV \n",
    "favorite_colors_df = pd.read_csv('Learning_Python_Part_9_Example_Colors.csv')\n",
    "\n",
    "# Read from Excel\n",
    "survey_df = pd.read_excel('Learning_Python_Part_9_Example_Survey.xlsx')"
   ]
  },
  {
   "cell_type": "markdown",
   "id": "ed9d19e6-e94d-4ca9-a397-a44d6ac7377f",
   "metadata": {},
   "source": [
    "### Basic Manipulation with Pandas"
   ]
  },
  {
   "cell_type": "markdown",
   "id": "b7466724-9bf4-4879-8b1f-7e4ea1e77fa8",
   "metadata": {},
   "source": [
    "Pandas provides powerful tools for data manipulation, including filtering, grouping, and summarizing data."
   ]
  },
  {
   "cell_type": "code",
   "execution_count": 31,
   "id": "fd4d85ed-07b0-4727-99fc-fdba4de5c18b",
   "metadata": {},
   "outputs": [
    {
     "data": {
      "text/html": [
       "<div>\n",
       "<style scoped>\n",
       "    .dataframe tbody tr th:only-of-type {\n",
       "        vertical-align: middle;\n",
       "    }\n",
       "\n",
       "    .dataframe tbody tr th {\n",
       "        vertical-align: top;\n",
       "    }\n",
       "\n",
       "    .dataframe thead th {\n",
       "        text-align: right;\n",
       "    }\n",
       "</style>\n",
       "<table border=\"1\" class=\"dataframe\">\n",
       "  <thead>\n",
       "    <tr style=\"text-align: right;\">\n",
       "      <th></th>\n",
       "      <th>id</th>\n",
       "      <th>name</th>\n",
       "      <th>age</th>\n",
       "      <th>favoriteColor</th>\n",
       "    </tr>\n",
       "  </thead>\n",
       "  <tbody>\n",
       "    <tr>\n",
       "      <th>0</th>\n",
       "      <td>1234</td>\n",
       "      <td>Bobby</td>\n",
       "      <td>30</td>\n",
       "      <td>Blue</td>\n",
       "    </tr>\n",
       "    <tr>\n",
       "      <th>1</th>\n",
       "      <td>2345</td>\n",
       "      <td>Susan</td>\n",
       "      <td>16</td>\n",
       "      <td>Orange</td>\n",
       "    </tr>\n",
       "    <tr>\n",
       "      <th>2</th>\n",
       "      <td>3456</td>\n",
       "      <td>Mirjana</td>\n",
       "      <td>29</td>\n",
       "      <td>Yellow</td>\n",
       "    </tr>\n",
       "  </tbody>\n",
       "</table>\n",
       "</div>"
      ],
      "text/plain": [
       "     id     name  age favoriteColor\n",
       "0  1234    Bobby   30          Blue\n",
       "1  2345    Susan   16        Orange\n",
       "2  3456  Mirjana   29        Yellow"
      ]
     },
     "execution_count": 31,
     "metadata": {},
     "output_type": "execute_result"
    }
   ],
   "source": [
    "# First, let's take a look at the first 3 rows of the favorite_colors_df\n",
    "favorite_colors_df.head(3)"
   ]
  },
  {
   "cell_type": "code",
   "execution_count": 32,
   "id": "0f28412e-1e75-4c08-9dac-f6eb731fc705",
   "metadata": {},
   "outputs": [
    {
     "data": {
      "text/html": [
       "<div>\n",
       "<style scoped>\n",
       "    .dataframe tbody tr th:only-of-type {\n",
       "        vertical-align: middle;\n",
       "    }\n",
       "\n",
       "    .dataframe tbody tr th {\n",
       "        vertical-align: top;\n",
       "    }\n",
       "\n",
       "    .dataframe thead th {\n",
       "        text-align: right;\n",
       "    }\n",
       "</style>\n",
       "<table border=\"1\" class=\"dataframe\">\n",
       "  <thead>\n",
       "    <tr style=\"text-align: right;\">\n",
       "      <th></th>\n",
       "      <th>id</th>\n",
       "      <th>name</th>\n",
       "      <th>age</th>\n",
       "      <th>favoriteColor</th>\n",
       "    </tr>\n",
       "  </thead>\n",
       "  <tbody>\n",
       "    <tr>\n",
       "      <th>5</th>\n",
       "      <td>6789</td>\n",
       "      <td>Gabrielle</td>\n",
       "      <td>21</td>\n",
       "      <td>Pink</td>\n",
       "    </tr>\n",
       "    <tr>\n",
       "      <th>6</th>\n",
       "      <td>7890</td>\n",
       "      <td>Gunter</td>\n",
       "      <td>11</td>\n",
       "      <td>Teal</td>\n",
       "    </tr>\n",
       "    <tr>\n",
       "      <th>7</th>\n",
       "      <td>8901</td>\n",
       "      <td>Woodrow</td>\n",
       "      <td>88</td>\n",
       "      <td>Red</td>\n",
       "    </tr>\n",
       "    <tr>\n",
       "      <th>8</th>\n",
       "      <td>9012</td>\n",
       "      <td>Tom</td>\n",
       "      <td>64</td>\n",
       "      <td>Blue</td>\n",
       "    </tr>\n",
       "    <tr>\n",
       "      <th>9</th>\n",
       "      <td>9999</td>\n",
       "      <td>Abigail</td>\n",
       "      <td>14</td>\n",
       "      <td>Purple</td>\n",
       "    </tr>\n",
       "  </tbody>\n",
       "</table>\n",
       "</div>"
      ],
      "text/plain": [
       "     id       name  age favoriteColor\n",
       "5  6789  Gabrielle   21          Pink\n",
       "6  7890     Gunter   11          Teal\n",
       "7  8901    Woodrow   88           Red\n",
       "8  9012        Tom   64          Blue\n",
       "9  9999    Abigail   14        Purple"
      ]
     },
     "execution_count": 32,
     "metadata": {},
     "output_type": "execute_result"
    }
   ],
   "source": [
    "# Now, let's examine the last 5 rows of the same df by using tail instead of head\n",
    "favorite_colors_df.tail() # 5 is the default value if no value is provided"
   ]
  },
  {
   "cell_type": "code",
   "execution_count": 33,
   "id": "d4911362-543d-4ca1-ab5b-bf111ca4fd47",
   "metadata": {},
   "outputs": [
    {
     "name": "stdout",
     "output_type": "stream",
     "text": [
      "Filtered DataFrame:\n",
      "      id       name  age favoriteColor\n",
      "0  1234      Bobby   30          Blue\n",
      "2  3456    Mirjana   29        Yellow\n",
      "3  4567     Nikola   64           Red\n",
      "4  5678      Louis   52     Turquoise\n",
      "5  6789  Gabrielle   21          Pink\n",
      "7  8901    Woodrow   88           Red\n",
      "8  9012        Tom   64          Blue\n"
     ]
    }
   ],
   "source": [
    "# Example of filtering data\n",
    "filtered_color_df = favorite_colors_df[favorite_colors_df['age'] > 20]\n",
    "print(\"Filtered DataFrame:\\n\", filtered_color_df)"
   ]
  },
  {
   "cell_type": "code",
   "execution_count": 34,
   "id": "18ba8bf3-50d8-4f78-8def-3bfeb1776b5c",
   "metadata": {},
   "outputs": [
    {
     "name": "stdout",
     "output_type": "stream",
     "text": [
      "Grouped DataFrame:\n",
      " favoriteColor\n",
      "Blue         2\n",
      "Orange       1\n",
      "Pink         1\n",
      "Purple       1\n",
      "Red          2\n",
      "Teal         1\n",
      "Turquoise    1\n",
      "Yellow       1\n",
      "dtype: int64\n"
     ]
    }
   ],
   "source": [
    "# Example of grouping data\n",
    "grouped_color_df = favorite_colors_df.groupby('favoriteColor').size()\n",
    "print(\"Grouped DataFrame:\\n\", grouped_color_df)"
   ]
  },
  {
   "cell_type": "markdown",
   "id": "da85db55-1ab3-4a5c-b30a-62000ccd473f",
   "metadata": {},
   "source": [
    "### Melt and Pivot with Survey Data"
   ]
  },
  {
   "cell_type": "markdown",
   "id": "3b13e7eb-6b68-4e85-91bb-fb807e092398",
   "metadata": {},
   "source": [
    "Pandas' melt and pivot functions are useful for reshaping data. Here's an example using the survey data we read in earlier via the excel file."
   ]
  },
  {
   "cell_type": "code",
   "execution_count": 35,
   "id": "06431da5-a5c4-492d-b349-613332f8f4b0",
   "metadata": {},
   "outputs": [
    {
     "data": {
      "text/html": [
       "<div>\n",
       "<style scoped>\n",
       "    .dataframe tbody tr th:only-of-type {\n",
       "        vertical-align: middle;\n",
       "    }\n",
       "\n",
       "    .dataframe tbody tr th {\n",
       "        vertical-align: top;\n",
       "    }\n",
       "\n",
       "    .dataframe thead th {\n",
       "        text-align: right;\n",
       "    }\n",
       "</style>\n",
       "<table border=\"1\" class=\"dataframe\">\n",
       "  <thead>\n",
       "    <tr style=\"text-align: right;\">\n",
       "      <th></th>\n",
       "      <th>ID</th>\n",
       "      <th>Name</th>\n",
       "      <th>Q1</th>\n",
       "      <th>Q2</th>\n",
       "      <th>Q3</th>\n",
       "      <th>Q4</th>\n",
       "      <th>Q5</th>\n",
       "    </tr>\n",
       "  </thead>\n",
       "  <tbody>\n",
       "    <tr>\n",
       "      <th>0</th>\n",
       "      <td>1000</td>\n",
       "      <td>Bogdan</td>\n",
       "      <td>1</td>\n",
       "      <td>5</td>\n",
       "      <td>2</td>\n",
       "      <td>4</td>\n",
       "      <td>4</td>\n",
       "    </tr>\n",
       "    <tr>\n",
       "      <th>1</th>\n",
       "      <td>1001</td>\n",
       "      <td>Alejandro</td>\n",
       "      <td>3</td>\n",
       "      <td>4</td>\n",
       "      <td>4</td>\n",
       "      <td>5</td>\n",
       "      <td>4</td>\n",
       "    </tr>\n",
       "    <tr>\n",
       "      <th>2</th>\n",
       "      <td>1002</td>\n",
       "      <td>Will</td>\n",
       "      <td>4</td>\n",
       "      <td>3</td>\n",
       "      <td>5</td>\n",
       "      <td>2</td>\n",
       "      <td>3</td>\n",
       "    </tr>\n",
       "    <tr>\n",
       "      <th>3</th>\n",
       "      <td>1003</td>\n",
       "      <td>Anastasia</td>\n",
       "      <td>2</td>\n",
       "      <td>2</td>\n",
       "      <td>2</td>\n",
       "      <td>4</td>\n",
       "      <td>5</td>\n",
       "    </tr>\n",
       "    <tr>\n",
       "      <th>4</th>\n",
       "      <td>1004</td>\n",
       "      <td>Henrietta</td>\n",
       "      <td>5</td>\n",
       "      <td>3</td>\n",
       "      <td>1</td>\n",
       "      <td>3</td>\n",
       "      <td>1</td>\n",
       "    </tr>\n",
       "  </tbody>\n",
       "</table>\n",
       "</div>"
      ],
      "text/plain": [
       "     ID       Name  Q1  Q2  Q3  Q4  Q5\n",
       "0  1000     Bogdan   1   5   2   4   4\n",
       "1  1001  Alejandro   3   4   4   5   4\n",
       "2  1002       Will   4   3   5   2   3\n",
       "3  1003  Anastasia   2   2   2   4   5\n",
       "4  1004  Henrietta   5   3   1   3   1"
      ]
     },
     "execution_count": 35,
     "metadata": {},
     "output_type": "execute_result"
    }
   ],
   "source": [
    "# Examine the data\n",
    "survey_df.head()"
   ]
  },
  {
   "cell_type": "code",
   "execution_count": 36,
   "id": "6403296e-6f19-497c-99e4-483a6f0fd508",
   "metadata": {},
   "outputs": [
    {
     "name": "stdout",
     "output_type": "stream",
     "text": [
      "Melted DataFrame:\n",
      "       ID       Name Question  Score\n",
      "0   1000     Bogdan       Q1      1\n",
      "1   1001  Alejandro       Q1      3\n",
      "2   1002       Will       Q1      4\n",
      "3   1003  Anastasia       Q1      2\n",
      "4   1004  Henrietta       Q1      5\n",
      "..   ...        ...      ...    ...\n",
      "70  1010       Ozan       Q5      4\n",
      "71  1011    Alberto       Q5      5\n",
      "72  1012     Darius       Q5      4\n",
      "73  1013   Penelope       Q5      5\n",
      "74  1014   Katerina       Q5      4\n",
      "\n",
      "[75 rows x 4 columns]\n",
      "Pivoted DataFrame:\n",
      " Question        Q1  Q2  Q3  Q4  Q5\n",
      "ID   Name                         \n",
      "1000 Bogdan      1   5   2   4   4\n",
      "1001 Alejandro   3   4   4   5   4\n",
      "1002 Will        4   3   5   2   3\n",
      "1003 Anastasia   2   2   2   4   5\n",
      "1004 Henrietta   5   3   1   3   1\n",
      "1005 James       5   5   3   5   2\n",
      "1006 Barbara     4   4   5   4   5\n",
      "1007 Beatrice    1   5   4   5   4\n",
      "1008 Amira       2   5   2   4   3\n",
      "1009 Boris       3   5   4   5   5\n",
      "1010 Ozan        3   5   5   1   4\n",
      "1011 Alberto     3   5   3   5   5\n",
      "1012 Darius      5   5   1   4   4\n",
      "1013 Penelope    5   5   3   1   5\n",
      "1014 Katerina    5   5   5   5   4\n"
     ]
    }
   ],
   "source": [
    "# Melt the DataFrame from wide to long format\n",
    "melted_survey_df = pd.melt(survey_df, id_vars=['ID','Name'], var_name='Question', value_name = 'Score')\n",
    "print(\"Melted DataFrame:\\n\",melted_survey_df)\n",
    "\n",
    "# Pivot the DataFrame back from long to wide format\n",
    "pivoted_survey_df = melted_survey_df.pivot(index=['ID', 'Name'], columns='Question', values = 'Score')\n",
    "print(\"Pivoted DataFrame:\\n\", pivoted_survey_df)\n"
   ]
  },
  {
   "cell_type": "markdown",
   "id": "cc990fb9-38ba-4c7d-a6e6-6b0c51c14308",
   "metadata": {},
   "source": [
    "# Learning Python: Part 10 - Cleaning and Preparing Data for Analysis"
   ]
  },
  {
   "cell_type": "markdown",
   "id": "a3f9219b-6192-441e-a27d-719f56708c0d",
   "metadata": {},
   "source": [
    "To illustrate some of the common data cleaning steps that one might encounter, use numpy and pandas to generate a test data set."
   ]
  },
  {
   "cell_type": "code",
   "execution_count": 37,
   "id": "37c0f4a5-5c3a-4894-bdd3-0581688aa77c",
   "metadata": {},
   "outputs": [
    {
     "data": {
      "text/html": [
       "<div>\n",
       "<style scoped>\n",
       "    .dataframe tbody tr th:only-of-type {\n",
       "        vertical-align: middle;\n",
       "    }\n",
       "\n",
       "    .dataframe tbody tr th {\n",
       "        vertical-align: top;\n",
       "    }\n",
       "\n",
       "    .dataframe thead th {\n",
       "        text-align: right;\n",
       "    }\n",
       "</style>\n",
       "<table border=\"1\" class=\"dataframe\">\n",
       "  <thead>\n",
       "    <tr style=\"text-align: right;\">\n",
       "      <th></th>\n",
       "      <th>Age</th>\n",
       "      <th>Satisfaction_Level</th>\n",
       "      <th>Recommend_To_Friend</th>\n",
       "      <th>Usage_Frequency</th>\n",
       "      <th>Favorite_Feature</th>\n",
       "    </tr>\n",
       "  </thead>\n",
       "  <tbody>\n",
       "    <tr>\n",
       "      <th>0</th>\n",
       "      <td>56.0</td>\n",
       "      <td>Neutral</td>\n",
       "      <td>True</td>\n",
       "      <td>Monthly</td>\n",
       "      <td>Feature A</td>\n",
       "    </tr>\n",
       "    <tr>\n",
       "      <th>1</th>\n",
       "      <td>46.0</td>\n",
       "      <td>Neutral</td>\n",
       "      <td>False</td>\n",
       "      <td>Daily</td>\n",
       "      <td>Feature D</td>\n",
       "    </tr>\n",
       "    <tr>\n",
       "      <th>2</th>\n",
       "      <td>32.0</td>\n",
       "      <td>Very Unsatisfied</td>\n",
       "      <td>False</td>\n",
       "      <td>Rarely</td>\n",
       "      <td>Feature C</td>\n",
       "    </tr>\n",
       "    <tr>\n",
       "      <th>3</th>\n",
       "      <td>60.0</td>\n",
       "      <td>Neutral</td>\n",
       "      <td>True</td>\n",
       "      <td>Rarely</td>\n",
       "      <td>Feature A</td>\n",
       "    </tr>\n",
       "    <tr>\n",
       "      <th>4</th>\n",
       "      <td>25.0</td>\n",
       "      <td>Neutral</td>\n",
       "      <td>False</td>\n",
       "      <td>Weekly</td>\n",
       "      <td>Feature D</td>\n",
       "    </tr>\n",
       "  </tbody>\n",
       "</table>\n",
       "</div>"
      ],
      "text/plain": [
       "    Age Satisfaction_Level Recommend_To_Friend Usage_Frequency  \\\n",
       "0  56.0            Neutral                True         Monthly   \n",
       "1  46.0            Neutral               False           Daily   \n",
       "2  32.0   Very Unsatisfied               False          Rarely   \n",
       "3  60.0            Neutral                True          Rarely   \n",
       "4  25.0            Neutral               False          Weekly   \n",
       "\n",
       "  Favorite_Feature  \n",
       "0        Feature A  \n",
       "1        Feature D  \n",
       "2        Feature C  \n",
       "3        Feature A  \n",
       "4        Feature D  "
      ]
     },
     "execution_count": 37,
     "metadata": {},
     "output_type": "execute_result"
    }
   ],
   "source": [
    "import numpy as np\n",
    "import pandas as pd\n",
    "\n",
    "# Define parameters\n",
    "np.random.seed(42)  # For reproducibility\n",
    "num_responses = 100\n",
    "null_percentage = 0.03\n",
    "num_nulls = int(num_responses * null_percentage)\n",
    "\n",
    "# Survey data categories\n",
    "survey_data = {\n",
    "    \"Age\": np.random.randint(18, 65, size=num_responses),\n",
    "    \"Satisfaction_Level\": np.random.choice(['Very Unsatisfied', 'Unsatisfied', 'Neutral', 'Satisfied', 'Very Satisfied'], size=num_responses),\n",
    "    \"Recommend_To_Friend\": np.random.choice([True, False], size=num_responses),\n",
    "    \"Usage_Frequency\": np.random.choice(['Daily', 'Weekly', 'Monthly', 'Rarely'], size=num_responses),\n",
    "    \"Favorite_Feature\": np.random.choice(['Feature A', 'Feature B', 'Feature C', 'Feature D'], size=num_responses)\n",
    "}\n",
    "\n",
    "# Create DataFrame\n",
    "df = pd.DataFrame(survey_data)\n",
    "\n",
    "# Cast boolean column to object type to allow for NaN values\n",
    "df['Recommend_To_Friend'] = df['Recommend_To_Friend'].astype(object)\n",
    "\n",
    "# Re-apply the NULL values after the conversion\n",
    "# Randomly set approximately 3% of the responses to NULL\n",
    "for col in df.columns:\n",
    "    null_indices = np.random.choice(df.index, num_nulls, replace=False)\n",
    "    df.loc[null_indices, col] = np.nan\n",
    "\n",
    "df.head()"
   ]
  },
  {
   "cell_type": "markdown",
   "id": "17f36ac5-abd5-4675-929e-a5a526787f34",
   "metadata": {},
   "source": [
    "### Handling Missing Data"
   ]
  },
  {
   "cell_type": "code",
   "execution_count": 38,
   "id": "9b05a6d5-6b6d-4710-9e45-ad467c69bf59",
   "metadata": {},
   "outputs": [
    {
     "name": "stdout",
     "output_type": "stream",
     "text": [
      "Age                    3\n",
      "Satisfaction_Level     3\n",
      "Recommend_To_Friend    3\n",
      "Usage_Frequency        3\n",
      "Favorite_Feature       3\n",
      "dtype: int64\n"
     ]
    }
   ],
   "source": [
    "# Begin by identifying missing data\n",
    "missing_data = df.isnull().sum()\n",
    "print(missing_data)"
   ]
  },
  {
   "cell_type": "markdown",
   "id": "a10b59dd-ebe1-41a6-af39-638764eafc63",
   "metadata": {},
   "source": [
    "#### Techniques for Handling Missing Data"
   ]
  },
  {
   "cell_type": "markdown",
   "id": "826b7ce8-951e-400b-9bf9-d5d43147a1c0",
   "metadata": {},
   "source": [
    "##### 1. Removing Missing Data: "
   ]
  },
  {
   "cell_type": "markdown",
   "id": "8bad36d8-d140-43de-96d7-2b56197c9398",
   "metadata": {},
   "source": [
    "If only a small portion of your data is missing, \n",
    "you might choose to drop those rows or columns.\n",
    "This can be done using dropna().\n",
    "\n",
    "**Example:**"
   ]
  },
  {
   "cell_type": "code",
   "execution_count": 39,
   "id": "d925f33d-3bb9-4ae1-971a-24ce05bbf1d8",
   "metadata": {},
   "outputs": [],
   "source": [
    "# Drop rows with any NaN values and store in a new Data Frame (df_cleaned)\n",
    "df_cleaned = df.dropna()  "
   ]
  },
  {
   "cell_type": "markdown",
   "id": "e45eb98f-f709-440c-8904-64c61c64f5ca",
   "metadata": {},
   "source": [
    "##### 2. Imputation (Filling Missing Data)"
   ]
  },
  {
   "cell_type": "markdown",
   "id": "486de8e5-0549-4983-8430-d4f768a88138",
   "metadata": {},
   "source": [
    "You might replace missing values with reasonable substitutes like the mean, median, or mode of the column.\n",
    "\n",
    "**Example:**"
   ]
  },
  {
   "cell_type": "code",
   "execution_count": 40,
   "id": "3323cf3a-f12a-4d92-8e95-2dfdf2abba66",
   "metadata": {},
   "outputs": [],
   "source": [
    "# Fill missing Age values with the column mean\n",
    "df['Age'] = df['Age'].fillna(df['Age'].mean())"
   ]
  },
  {
   "cell_type": "markdown",
   "id": "987506bd-aac8-4684-8099-de585c9d1b34",
   "metadata": {},
   "source": [
    "##### 3. Flagging Missing Data:"
   ]
  },
  {
   "cell_type": "markdown",
   "id": "65ad11fd-a6da-4e32-8608-fb0faed03977",
   "metadata": {},
   "source": [
    "Sometimes, it’s useful to create a new column that flags whether a value was missing, so that you can account for this later in your analysis. In the previous cell, we filled in the missing ages already, so let's flag any rows that have a missing Satisfaction_Level\n",
    "\n",
    "**Example:**"
   ]
  },
  {
   "cell_type": "code",
   "execution_count": 41,
   "id": "a9bd0323-83d4-4bc5-b16b-a3c8099f0a9e",
   "metadata": {},
   "outputs": [],
   "source": [
    "df['Satisfaction_Level_missing'] = df['Satisfaction_Level'].isnull()"
   ]
  },
  {
   "cell_type": "markdown",
   "id": "e7acfd0a-0ec6-49d0-8a15-99196d5329d3",
   "metadata": {},
   "source": [
    "### Practical Examples of Data Cleaning"
   ]
  },
  {
   "cell_type": "markdown",
   "id": "80a3cb17-0924-4ffe-9e6d-5226478b51d6",
   "metadata": {},
   "source": [
    "Cleaning data involves transforming raw data into a format that's easier to analyze. Here are some common cleaning steps:"
   ]
  },
  {
   "cell_type": "markdown",
   "id": "c0098465-e3f2-4e39-ad51-bf3b9201d97b",
   "metadata": {},
   "source": [
    "#### 1. Removing or Filling Missing Values"
   ]
  },
  {
   "cell_type": "markdown",
   "id": "99db9c64-8cbb-4477-b2c1-851e1ccb7aaa",
   "metadata": {},
   "source": [
    "As shown above, using fillna() or dropna() to handle NaN values."
   ]
  },
  {
   "cell_type": "markdown",
   "id": "cf388302-4531-49e9-b388-3c2ccad90ffe",
   "metadata": {},
   "source": [
    "#### 2. Ensuring Consistent Formatting"
   ]
  },
  {
   "cell_type": "markdown",
   "id": "65a8250c-6972-4988-8235-86528641e6a0",
   "metadata": {},
   "source": [
    "Sticking to the example of survey data, one might see, in the event that inputs for Usage__Frequency were provided as open-ended text inputs, that respondents have written \"Daily\" and \"daily\" as their inputs. You can standardize these by converting to lower/uppercase."
   ]
  },
  {
   "cell_type": "code",
   "execution_count": 42,
   "id": "dbbe29bc-22df-472e-a188-c5470a35e57e",
   "metadata": {},
   "outputs": [],
   "source": [
    "# Convert to lowercase\n",
    "df['Usage_Frequency'] = df['Usage_Frequency'].str.lower()"
   ]
  },
  {
   "cell_type": "markdown",
   "id": "087fc3d0-383b-4cab-902d-aa5b7ee8cafa",
   "metadata": {},
   "source": [
    "#### 3. Handling Duplicates"
   ]
  },
  {
   "cell_type": "markdown",
   "id": "96d56e39-3af6-4963-84e7-80ff6f5f789c",
   "metadata": {},
   "source": [
    "You can check for and remove duplicate entries."
   ]
  },
  {
   "cell_type": "code",
   "execution_count": 43,
   "id": "8f60008d-55c9-498b-a8c4-66afda0886f3",
   "metadata": {},
   "outputs": [],
   "source": [
    "df.drop_duplicates(inplace=True)"
   ]
  },
  {
   "cell_type": "markdown",
   "id": "fcf3a17e-1e5f-4a85-9f29-6f51ddc66f81",
   "metadata": {},
   "source": [
    "### Filtering and Sorting Data"
   ]
  },
  {
   "cell_type": "markdown",
   "id": "c60baf58-74e1-4899-9234-d2162154805a",
   "metadata": {},
   "source": [
    "Once the data is clean, you can filter and sort it for analysis. For example, you might want to filter out users who are \"Unsatisfied\" and sort them by their \"Age.\""
   ]
  },
  {
   "cell_type": "code",
   "execution_count": 44,
   "id": "a449a548-b557-482d-bbe6-9263b4285e71",
   "metadata": {},
   "outputs": [],
   "source": [
    "filtered_data = df[df['Satisfaction_Level'] == 'Unsatisfied']\n",
    "sorted_data = filtered_data.sort_values(by='Age', ascending=True)"
   ]
  },
  {
   "cell_type": "markdown",
   "id": "30695a29-9f56-4e9d-afd5-092cc0a7ef54",
   "metadata": {},
   "source": [
    "### Aggregating and Summarizing Data"
   ]
  },
  {
   "cell_type": "markdown",
   "id": "5d0c0cab-09a5-4edd-8100-42f19ecf66be",
   "metadata": {},
   "source": [
    "Aggregating data allows you to calculate summary statistics, like the average age of survey respondents, or how many people use the app daily.\n",
    "\n",
    "**Example:**"
   ]
  },
  {
   "cell_type": "code",
   "execution_count": 45,
   "id": "a4830a01-f824-4a5d-b440-7009e132e945",
   "metadata": {},
   "outputs": [],
   "source": [
    "# Count by satisfaction level\n",
    "satisfaction_counts = df['Satisfaction_Level'].value_counts()\n",
    "\n",
    "# Average age of respondents\n",
    "average_age = df['Age'].mean()"
   ]
  },
  {
   "cell_type": "code",
   "execution_count": 46,
   "id": "b4571cfb-0685-4dc8-95bb-c6af45aefbae",
   "metadata": {},
   "outputs": [
    {
     "name": "stdout",
     "output_type": "stream",
     "text": [
      "Satisfaction_Level\n",
      "Very Unsatisfied    27\n",
      "Neutral             21\n",
      "Satisfied           20\n",
      "Very Satisfied      15\n",
      "Unsatisfied         13\n",
      "Name: count, dtype: int64\n"
     ]
    }
   ],
   "source": [
    "print(satisfaction_counts)"
   ]
  },
  {
   "cell_type": "code",
   "execution_count": 47,
   "id": "96102f13-2c65-49e0-8ee1-c53a9e798512",
   "metadata": {},
   "outputs": [
    {
     "name": "stdout",
     "output_type": "stream",
     "text": [
      "40.7608039154431\n"
     ]
    }
   ],
   "source": [
    "print(average_age)"
   ]
  },
  {
   "cell_type": "markdown",
   "id": "9ffaa2fa-faaa-47ed-b6ff-e5385c1da077",
   "metadata": {},
   "source": [
    "### Practical Examples of Data Analysis"
   ]
  },
  {
   "cell_type": "markdown",
   "id": "044a0a00-6d7e-4e17-8c95-ffeb8ddf9435",
   "metadata": {},
   "source": [
    "With your cleaned data, you can start analyzing trends. For example, you can see if satisfaction correlates with recommending the product to a friend.\n",
    "\n",
    "This will show the percentage of people in each satisfaction category who would recommend the product to a friend."
   ]
  },
  {
   "cell_type": "code",
   "execution_count": 48,
   "id": "3b22198d-de6c-4ecd-b58a-c44c28603cf9",
   "metadata": {},
   "outputs": [],
   "source": [
    "recommendation_analysis = df.groupby('Satisfaction_Level')['Recommend_To_Friend'].mean()"
   ]
  },
  {
   "cell_type": "code",
   "execution_count": 49,
   "id": "80fd435d-b5b5-46db-b5c8-832d48fd6f9d",
   "metadata": {},
   "outputs": [
    {
     "name": "stdout",
     "output_type": "stream",
     "text": [
      "Satisfaction_Level\n",
      "Neutral             0.333333\n",
      "Satisfied           0.611111\n",
      "Unsatisfied         0.384615\n",
      "Very Satisfied      0.466667\n",
      "Very Unsatisfied    0.461538\n",
      "Name: Recommend_To_Friend, dtype: object\n"
     ]
    }
   ],
   "source": [
    "print(recommendation_analysis)"
   ]
  },
  {
   "cell_type": "markdown",
   "id": "7fa31d1a-4736-4c58-835b-2eedb7aac8e4",
   "metadata": {},
   "source": [
    "# Learning Python: Part 11 - Data Visualization in Python"
   ]
  },
  {
   "cell_type": "markdown",
   "id": "73c449f3-5b70-402c-a3d5-27cf3b2a63c9",
   "metadata": {},
   "source": [
    "#### Getting Started with Matplotlib and Seaborn"
   ]
  },
  {
   "cell_type": "markdown",
   "id": "5575d876-d2ba-4df9-8958-912f962b9226",
   "metadata": {},
   "source": [
    "**Matplotlib** is a foundational plotting library in Python. It provides a flexible platform to create a wide variety of static, animated, and interactive plots. **Seaborn** is built on top of Matplotlib and offers a high-level interface for creating visually appealing and statistically insightful plots."
   ]
  },
  {
   "cell_type": "markdown",
   "id": "42e239e0-92ff-4fdd-a5ef-1ccb3c26d3fd",
   "metadata": {},
   "source": [
    "If not already done, install required libraries into your environment\n",
    "\n",
    "pip install matplotlib seaborn"
   ]
  },
  {
   "cell_type": "code",
   "execution_count": 50,
   "id": "9ecb887b-a8bd-4126-a1e9-e96d2f533eee",
   "metadata": {},
   "outputs": [],
   "source": [
    "import matplotlib.pyplot as plt\n",
    "import seaborn as sns"
   ]
  },
  {
   "cell_type": "markdown",
   "id": "0a0c075f-9c17-4aa6-bf69-06d4e08ca72f",
   "metadata": {},
   "source": [
    "#### Creating Simple Plots with Matplotlib"
   ]
  },
  {
   "cell_type": "markdown",
   "id": "5d1b1871-943a-430c-a676-048ec21204d0",
   "metadata": {},
   "source": [
    "**Barchart:**"
   ]
  },
  {
   "cell_type": "code",
   "execution_count": 51,
   "id": "6b3a1e0a-3ade-4d5f-9891-cf9c2f8f45db",
   "metadata": {},
   "outputs": [
    {
     "data": {
      "image/png": "[encoded data removed]",
      "text/plain": [
       "<Figure size 800x500 with 1 Axes>"
      ]
     },
     "metadata": {},
     "output_type": "display_data"
    }
   ],
   "source": [
    "# Bar plot of satisfaction levels\n",
    "plt.figure(figsize=(8, 5))\n",
    "df['Satisfaction_Level'].value_counts().plot(kind='bar', color='skyblue')\n",
    "plt.title('Survey Respondents by Satisfaction Level')\n",
    "plt.xlabel('Satisfaction Level')\n",
    "plt.ylabel('Number of Respondents')\n",
    "plt.xticks(rotation=45)\n",
    "plt.show()"
   ]
  },
  {
   "cell_type": "markdown",
   "id": "da0b192e-d209-44ee-97be-a8e8272fe5d9",
   "metadata": {},
   "source": [
    "### Advanced Data Visualization with Seaborn"
   ]
  },
  {
   "cell_type": "markdown",
   "id": "85e4eb72-a42c-4fff-9c0b-c8bef1a1a6aa",
   "metadata": {},
   "source": [
    "**Seaborn** simplifies creating complex plots and comes with beautiful default styles. It excels at visualizing statistical relationships in your data."
   ]
  },
  {
   "cell_type": "markdown",
   "id": "a5bd8d2a-7df3-4a02-9a25-d012ad48e9f5",
   "metadata": {},
   "source": [
    "#### Creating Statistical Plots with Seaborn"
   ]
  },
  {
   "cell_type": "code",
   "execution_count": 52,
   "id": "1b5eb32c-c302-4556-bc5c-8d34175cbfe9",
   "metadata": {},
   "outputs": [
    {
     "data": {
      "image/png": "[encoded data removed]",
      "text/plain": [
       "<Figure size 1000x500 with 1 Axes>"
      ]
     },
     "metadata": {},
     "output_type": "display_data"
    }
   ],
   "source": [
    "# Create the Boxplot first\n",
    "plt.figure(figsize=(10, 5))\n",
    "sns.boxplot(y=df['Age'], color='orange')\n",
    "plt.title('Age Boxplot')\n",
    "plt.ylabel('Age')\n",
    "plt.xlabel('')  # No x-axis label for the boxplot\n",
    "plt.show()  # Display the boxplot"
   ]
  },
  {
   "cell_type": "code",
   "execution_count": 53,
   "id": "7454ce24-acfb-4ee7-8196-3e4889e262ef",
   "metadata": {},
   "outputs": [
    {
     "data": {
      "image/png": "[encoded data removed]",
      "text/plain": [
       "<Figure size 1000x500 with 1 Axes>"
      ]
     },
     "metadata": {},
     "output_type": "display_data"
    }
   ],
   "source": [
    "# Create the Histogram next\n",
    "plt.figure(figsize=(10, 5))\n",
    "sns.histplot(df['Age'], bins=10, kde=False, color='skyblue')\n",
    "plt.title('Age Distribution (Histogram)')\n",
    "plt.xlabel('Age')\n",
    "plt.ylabel('Frequency')\n",
    "plt.show()  # Display the histogram"
   ]
  },
  {
   "cell_type": "markdown",
   "id": "de018bbb-842e-4edc-8cc1-942dee3e8e1e",
   "metadata": {},
   "source": [
    "To provide an example of more sophisticated formatting of these visualizations, below is an example of cmobining the two above charts into a single visualization. This will require an additional module (gridspec) to pull off:"
   ]
  },
  {
   "cell_type": "code",
   "execution_count": 54,
   "id": "92fa2ef6-4c3d-4e63-b365-51e70e6c6161",
   "metadata": {},
   "outputs": [
    {
     "data": {
      "image/png": "[encoded data removed]",
      "text/plain": [
       "<Figure size 1200x600 with 2 Axes>"
      ]
     },
     "metadata": {},
     "output_type": "display_data"
    }
   ],
   "source": [
    "import matplotlib.gridspec as gridspec\n",
    "\n",
    "# Set up the figure and the grid spec\n",
    "fig = plt.figure(figsize=(12, 6))\n",
    "gs = gridspec.GridSpec(1, 2, width_ratios=[1, 2])  # Create 2 columns, wider space for the histogram\n",
    "\n",
    "# Boxplot on the left\n",
    "ax0 = plt.subplot(gs[0])  # First subplot (left)\n",
    "sns.boxplot(y=df['Age'], color='orange', ax=ax0)\n",
    "ax0.set_title('Age Boxplot')\n",
    "ax0.set_ylabel('Age')\n",
    "ax0.set_xlabel('')  # No x-axis label for the boxplot\n",
    "\n",
    "# Histogram on the right\n",
    "ax1 = plt.subplot(gs[1])  # Second subplot (right)\n",
    "sns.histplot(df['Age'], bins=10, kde=False, color='skyblue', ax=ax1)\n",
    "ax1.set_title('Age Distribution (Histogram)')\n",
    "ax1.set_xlabel('Age')\n",
    "ax1.set_ylabel('Frequency')\n",
    "\n",
    "# Adjust layout to prevent overlap\n",
    "plt.tight_layout()\n",
    "\n",
    "# Show the plot\n",
    "plt.show()"
   ]
  },
  {
   "cell_type": "markdown",
   "id": "005c3e1a-c36a-4029-98a8-b82723bb52f0",
   "metadata": {},
   "source": [
    "**Breakdown:**\n",
    "\n",
    "* gridspec.GridSpec: Allows flexible subplot arrangement, where width_ratios=[1, 2] gives more space to the histogram (right).\n",
    "* sns.boxplot: The boxplot is plotted on the left side.\n",
    "* sns.histplot: The histogram is plotted on the right side.\n",
    "* tight_layout(): Ensures proper spacing between the plots."
   ]
  },
  {
   "cell_type": "markdown",
   "id": "98600111-8215-4e3f-9f58-fa9f0af8dc3b",
   "metadata": {},
   "source": [
    "#### Customizing Plots Further"
   ]
  },
  {
   "cell_type": "markdown",
   "id": "4284e18d-7292-4dd5-b9a7-cc6242ec9359",
   "metadata": {},
   "source": [
    "Seaborn makes it easy to customize plots. You can change the color palette, add titles, and adjust figure sizes.\n",
    "\n",
    "Let's create a heatmap to visualize the correlation between age and recommendation rate."
   ]
  },
  {
   "cell_type": "code",
   "execution_count": 55,
   "id": "e2516e60-8b27-4266-86f8-b8a316735873",
   "metadata": {},
   "outputs": [
    {
     "data": {
      "image/png": "[encoded data removed]",
      "text/plain": [
       "<Figure size 500x400 with 2 Axes>"
      ]
     },
     "metadata": {},
     "output_type": "display_data"
    }
   ],
   "source": [
    "# Create a correlation matrix\n",
    "df_corr = df[['Age', 'Recommend_To_Friend']].copy()\n",
    "df_corr['Recommend_To_Friend'] = df_corr['Recommend_To_Friend'].map({True: 1, False: 0})\n",
    "\n",
    "# Heatmap of correlations\n",
    "plt.figure(figsize=(5, 4))\n",
    "sns.heatmap(df_corr.corr(), annot=True, cmap='coolwarm', vmin=-1, vmax=1)\n",
    "plt.title('Correlation Heatmap')\n",
    "plt.show()\n"
   ]
  },
  {
   "cell_type": "markdown",
   "id": "0fc2b656-f008-4762-b18e-17a37a21d4f7",
   "metadata": {},
   "source": [
    "In this example, we mapped boolean values to integers to compute correlations and visualize the relationships between numerical features."
   ]
  },
  {
   "cell_type": "markdown",
   "id": "3cd95f29-4bc9-44c5-b501-a2ebd9606248",
   "metadata": {},
   "source": [
    "#### A Practical Example of a Visualization"
   ]
  },
  {
   "cell_type": "markdown",
   "id": "32126b41-22f3-4120-bd56-93571432405d",
   "metadata": {},
   "source": [
    "Let’s take it a step further by combining Matplotlib and Seaborn to analyze usage frequency and its relationship to recommending the product to a friend."
   ]
  },
  {
   "cell_type": "code",
   "execution_count": 56,
   "id": "3acdac5f-fced-474d-a905-aec2b3c95a5c",
   "metadata": {},
   "outputs": [
    {
     "data": {
      "image/png": "[encoded data removed]",
      "text/plain": [
       "<Figure size 1000x600 with 1 Axes>"
      ]
     },
     "metadata": {},
     "output_type": "display_data"
    }
   ],
   "source": [
    "# Count plot of Usage Frequency vs Recommendation\n",
    "plt.figure(figsize=(10, 6))\n",
    "sns.countplot(x='Usage_Frequency', hue='Recommend_To_Friend', data=df, palette='muted')\n",
    "plt.title('Usage Frequency vs Recommend to a Friend')\n",
    "plt.xlabel('Usage Frequency')\n",
    "plt.ylabel('Count')\n",
    "plt.show()"
   ]
  },
  {
   "cell_type": "markdown",
   "id": "7e99a476-374b-42ab-8729-76586e123d46",
   "metadata": {},
   "source": [
    "This count plot clearly shows how frequently users interact with the product and whether they’d recommend it to a friend."
   ]
  }
 ],
 "metadata": {
  "kernelspec": {
   "display_name": "Python 3 (ipykernel)",
   "language": "python",
   "name": "python3"
  },
  "language_info": {
   "codemirror_mode": {
    "name": "ipython",
    "version": 3
   },
   "file_extension": ".py",
   "mimetype": "text/x-python",
   "name": "python",
   "nbconvert_exporter": "python",
   "pygments_lexer": "ipython3",
   "version": "3.12.3"
  }
 },
 "nbformat": 4,
 "nbformat_minor": 5
}
