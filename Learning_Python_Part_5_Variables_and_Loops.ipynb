{
 "cells": [
  {
   "cell_type": "markdown",
   "id": "58d818a0-ebb3-49c7-993c-5e31e15c1850",
   "metadata": {},
   "source": [
    "# Learning Python: Part 5 - Variables and Loops"
   ]
  },
  {
   "cell_type": "markdown",
   "id": "1e2270ae-bdc6-47a4-9cd3-ada23c7d80f4",
   "metadata": {},
   "source": [
    "## Variables: Basic units of storage."
   ]
  },
  {
   "cell_type": "code",
   "execution_count": 1,
   "id": "0eb2d166-9a22-4980-8389-1fe856616a05",
   "metadata": {},
   "outputs": [],
   "source": [
    "# Setting the x variable equal to 10\n",
    "x = 10\n",
    "\n",
    "# Setting the first_name variable equal to Alice\n",
    "first_name = \"Alice\""
   ]
  },
  {
   "cell_type": "code",
   "execution_count": 2,
   "id": "ae587cce-0055-494f-9e27-dd819f0fdb26",
   "metadata": {},
   "outputs": [
    {
     "name": "stdout",
     "output_type": "stream",
     "text": [
      "10\n"
     ]
    }
   ],
   "source": [
    "print(x)"
   ]
  },
  {
   "cell_type": "code",
   "execution_count": 3,
   "id": "0048b290-a4d5-4109-9c03-508276701bd5",
   "metadata": {},
   "outputs": [
    {
     "name": "stdout",
     "output_type": "stream",
     "text": [
      "Alice\n"
     ]
    }
   ],
   "source": [
    "print(first_name)"
   ]
  },
  {
   "cell_type": "markdown",
   "id": "677eb64b-733f-48c6-a0de-10e21cf93f27",
   "metadata": {},
   "source": [
    "## Data Types in Python"
   ]
  },
  {
   "cell_type": "markdown",
   "id": "6a68cac5-daaa-4371-a546-962c1d7264a5",
   "metadata": {},
   "source": [
    "#### Integers: Whole numbers without a decimal point."
   ]
  },
  {
   "cell_type": "code",
   "execution_count": 4,
   "id": "86d4bd8c-a5b3-4464-8faa-17a136648317",
   "metadata": {},
   "outputs": [],
   "source": [
    "age = 25"
   ]
  },
  {
   "cell_type": "markdown",
   "id": "f40b1d4c-7387-4218-b5f6-1afc04b707b4",
   "metadata": {},
   "source": [
    "#### Floats: Numbers with a decimal point."
   ]
  },
  {
   "cell_type": "code",
   "execution_count": 5,
   "id": "a3de2986-8352-410a-93af-eee272fca9ba",
   "metadata": {},
   "outputs": [],
   "source": [
    "temperature = 98.6"
   ]
  },
  {
   "cell_type": "markdown",
   "id": "c30f921d-a91d-4fe3-93ba-fd454373ed4c",
   "metadata": {},
   "source": [
    "#### Strings: Sequances of characters enclosed in quotes."
   ]
  },
  {
   "cell_type": "code",
   "execution_count": 6,
   "id": "4b69a0dd-c16f-474c-9a4b-83fa878a0e80",
   "metadata": {},
   "outputs": [],
   "source": [
    "greeting = \"Hello, World!\""
   ]
  },
  {
   "cell_type": "markdown",
   "id": "610daae4-ca12-4c0d-aada-4a695109a4e5",
   "metadata": {},
   "source": [
    "#### Lists: Ordered collections of items, which can be of different data types."
   ]
  },
  {
   "cell_type": "code",
   "execution_count": 7,
   "id": "0e8539ba-99d8-4340-a47b-95ce24e91ee2",
   "metadata": {},
   "outputs": [],
   "source": [
    "fruits = [\"apple\", \"banana\", \"cherry\"]"
   ]
  },
  {
   "cell_type": "markdown",
   "id": "27060635-f8a4-4b14-9d31-b5b655c626df",
   "metadata": {},
   "source": [
    "#### Dictionaries: Collections of key-value pairs."
   ]
  },
  {
   "cell_type": "code",
   "execution_count": 8,
   "id": "97d129ab-798d-475c-8eee-df6fb288ecf6",
   "metadata": {},
   "outputs": [],
   "source": [
    "person = {\"name\": \"Alice\", \"age\":30}"
   ]
  },
  {
   "cell_type": "markdown",
   "id": "01e8ad49-e718-4338-b55d-8829e943d0c8",
   "metadata": {},
   "source": [
    "#### Sets: Unordered collections of unique items"
   ]
  },
  {
   "cell_type": "code",
   "execution_count": 9,
   "id": "c5a20303-6fcf-4a8d-8cfe-d41d46760faf",
   "metadata": {},
   "outputs": [],
   "source": [
    "unique_numbers = {1, 2, 3, 4, 5}"
   ]
  },
  {
   "cell_type": "markdown",
   "id": "da67c913-4ba9-4837-bdef-2d990eb251de",
   "metadata": {},
   "source": [
    "#### Booleans: True or False values."
   ]
  },
  {
   "cell_type": "code",
   "execution_count": 10,
   "id": "b0e91a80-949f-42a4-9982-b6419e79a53c",
   "metadata": {},
   "outputs": [],
   "source": [
    "is_student = True"
   ]
  },
  {
   "cell_type": "markdown",
   "id": "7dffca6a-4966-4002-bf30-d56c3ecff500",
   "metadata": {},
   "source": [
    "## Boolean Variables and Operators"
   ]
  },
  {
   "cell_type": "code",
   "execution_count": 11,
   "id": "8fb13bdc-b57e-4204-8745-800a622e26e6",
   "metadata": {},
   "outputs": [
    {
     "name": "stdout",
     "output_type": "stream",
     "text": [
      "False\n",
      "True\n",
      "False\n"
     ]
    }
   ],
   "source": [
    "is_raining = True\n",
    "is_sunny = False\n",
    "\n",
    "# Boolean operators\n",
    "print(is_raining and is_sunny) # False\n",
    "print(is_raining or is_sunny) # True\n",
    "print(not is_raining) # False\n"
   ]
  },
  {
   "cell_type": "markdown",
   "id": "1ed9af99-b5ec-43ec-adc0-b61a8c97a683",
   "metadata": {},
   "source": [
    "## While Loop"
   ]
  },
  {
   "cell_type": "code",
   "execution_count": 12,
   "id": "a09ba204-67f1-42b1-a6c7-a4d6696ed9ff",
   "metadata": {},
   "outputs": [
    {
     "name": "stdout",
     "output_type": "stream",
     "text": [
      "Counting: 0\n",
      "Counting: 1\n",
      "Counting: 2\n",
      "Counting: 3\n",
      "Counting: 4\n"
     ]
    }
   ],
   "source": [
    "count = 0\n",
    "while count < 5:\n",
    "    print(\"Counting:\", count)\n",
    "    count += 1 #increment count by 1"
   ]
  },
  {
   "cell_type": "markdown",
   "id": "80c4967c-0a6b-4b89-90aa-dd50ca14442b",
   "metadata": {},
   "source": [
    "## For Loop"
   ]
  },
  {
   "cell_type": "code",
   "execution_count": 13,
   "id": "6422de7a-5be0-4e6b-914f-b0026435c7b7",
   "metadata": {},
   "outputs": [
    {
     "name": "stdout",
     "output_type": "stream",
     "text": [
      "apple\n",
      "banana\n",
      "cherry\n"
     ]
    }
   ],
   "source": [
    "fruits = [\"apple\", \"banana\", \"cherry\"]\n",
    "for fruit in fruits:\n",
    "    print(fruit)"
   ]
  },
  {
   "cell_type": "markdown",
   "id": "493b18ed-2efd-4873-8bb6-2ab4b8006170",
   "metadata": {},
   "source": [
    "## If Statement"
   ]
  },
  {
   "cell_type": "code",
   "execution_count": 14,
   "id": "7c254033-5104-4a0b-b0d0-6b9ce47644f0",
   "metadata": {},
   "outputs": [
    {
     "name": "stdout",
     "output_type": "stream",
     "text": [
      "x is greater than 5\n"
     ]
    }
   ],
   "source": [
    "x = 10\n",
    "if x > 5:\n",
    "    print(\"x is greater than 5\")\n",
    "else:\n",
    "    print(\"x is 5 or less\")"
   ]
  },
  {
   "cell_type": "markdown",
   "id": "3084cc70-dfbe-4c37-8f8e-2da73919efdc",
   "metadata": {},
   "source": [
    "## Code Indentation in Python"
   ]
  },
  {
   "cell_type": "code",
   "execution_count": 15,
   "id": "8bedd091-687a-4602-8249-c110eb19e6d0",
   "metadata": {},
   "outputs": [
    {
     "name": "stdout",
     "output_type": "stream",
     "text": [
      "This is indented\n"
     ]
    }
   ],
   "source": [
    "# Each level of indentation represents a new block of code. Consistency in using either spaces or tabs for indentation is important to avoid errors.\n",
    "if x > 5:\n",
    "    print(\"This is indented\")\n",
    "    if x > 10:\n",
    "        print(\"This is further indented\")"
   ]
  },
  {
   "cell_type": "code",
   "execution_count": null,
   "id": "4bdedb1f-1c1a-491c-bd97-d9c583031b26",
   "metadata": {},
   "outputs": [],
   "source": []
  }
 ],
 "metadata": {
  "kernelspec": {
   "display_name": "Python 3 (ipykernel)",
   "language": "python",
   "name": "python3"
  },
  "language_info": {
   "codemirror_mode": {
    "name": "ipython",
    "version": 3
   },
   "file_extension": ".py",
   "mimetype": "text/x-python",
   "name": "python",
   "nbconvert_exporter": "python",
   "pygments_lexer": "ipython3",
   "version": "3.12.3"
  }
 },
 "nbformat": 4,
 "nbformat_minor": 5
}
