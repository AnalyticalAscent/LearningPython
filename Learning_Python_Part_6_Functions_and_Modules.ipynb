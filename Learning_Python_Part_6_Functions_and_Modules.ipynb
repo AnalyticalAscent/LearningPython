{
 "cells": [
  {
   "cell_type": "markdown",
   "id": "c5fc22b0-02df-40be-b6ed-57ef37c201e4",
   "metadata": {},
   "source": [
    "# Learning Python - Part 6: Functions and Modules"
   ]
  },
  {
   "cell_type": "markdown",
   "id": "3e89bb80-c4a2-4c55-ae4b-2b77a19d9d99",
   "metadata": {},
   "source": [
    "## Defining and Using Functions"
   ]
  },
  {
   "cell_type": "code",
   "execution_count": 1,
   "id": "6edb5afc-60c2-4e0b-b4af-6ddf7680abe2",
   "metadata": {},
   "outputs": [],
   "source": [
    "# Define a function using the 'def' keywork, followed by the function name and parentheses.\n",
    "def greet(name):\n",
    "    \"\"\"This function greets the person whose name is passed as an argument.\"\"\"\n",
    "    print(f\"Hello, {name}!\")"
   ]
  },
  {
   "cell_type": "code",
   "execution_count": 2,
   "id": "02f2e49a-4169-4e5e-b66e-5db317b3506e",
   "metadata": {},
   "outputs": [
    {
     "name": "stdout",
     "output_type": "stream",
     "text": [
      "Hello, Alice!\n"
     ]
    }
   ],
   "source": [
    "# Calling the function\n",
    "greet(\"Alice\")"
   ]
  },
  {
   "cell_type": "code",
   "execution_count": 3,
   "id": "f64af3fc-2439-48f2-bea3-51ae68696426",
   "metadata": {},
   "outputs": [
    {
     "name": "stdout",
     "output_type": "stream",
     "text": [
      "Hello, Bob!\n"
     ]
    }
   ],
   "source": [
    "# Calling the function with a different name argument\n",
    "greet(\"Bob\")"
   ]
  },
  {
   "cell_type": "markdown",
   "id": "4bbb4c30-1fa5-4cb6-8da2-e504adc137b6",
   "metadata": {},
   "source": [
    "## Importing and Using Modules"
   ]
  },
  {
   "cell_type": "code",
   "execution_count": 4,
   "id": "0502c7b4-444b-4d21-914e-e56c3d7d6045",
   "metadata": {},
   "outputs": [
    {
     "name": "stdout",
     "output_type": "stream",
     "text": [
      "4.0\n",
      "3.141592653589793\n"
     ]
    }
   ],
   "source": [
    "# Importing a standard Python library module\n",
    "import math\n",
    "\n",
    "# Using functions from the math module\n",
    "print(math.sqrt(16))\n",
    "print (math.pi)"
   ]
  },
  {
   "cell_type": "markdown",
   "id": "0ce6a157-f328-4f32-bdc7-6fed9fae2cfb",
   "metadata": {},
   "source": [
    "## Writing Your First Python Function"
   ]
  },
  {
   "cell_type": "code",
   "execution_count": 5,
   "id": "5f82a14a-3bab-4535-9be3-5cf83bf0a3f6",
   "metadata": {},
   "outputs": [
    {
     "name": "stdout",
     "output_type": "stream",
     "text": [
      "120\n"
     ]
    }
   ],
   "source": [
    "# A simple Python function to calculate the factorial of a number.\n",
    "# The factorial of a non-negative integer n is the product of all prositive integers less than or equal to n.\n",
    "def factorial(n):\n",
    "    \"\"\"This function returns the factorial of a given number.\"\"\"\n",
    "    if n == 0:\n",
    "        return 1\n",
    "    else:\n",
    "        return n * factorial(n - 1)\n",
    "\n",
    "# Calling the function\n",
    "print(factorial(5))"
   ]
  },
  {
   "cell_type": "markdown",
   "id": "220797bb-a2fb-42de-84ff-e59e850873be",
   "metadata": {},
   "source": [
    "## Creating and Importing Your Own Module"
   ]
  },
  {
   "cell_type": "markdown",
   "id": "13996cfd-7fe8-4d12-a646-a51dc5d41ef6",
   "metadata": {},
   "source": [
    "Learning_Python_Part_6_My_Module.py has been included as an additional file and it contains two functions:\n",
    "* add: returns the sum of two numbers.\n",
    "* subtract: returns the difference of two numbers."
   ]
  },
  {
   "cell_type": "code",
   "execution_count": 8,
   "id": "92c2c40f-3275-489b-8c1b-cd0839ac8441",
   "metadata": {},
   "outputs": [
    {
     "name": "stdout",
     "output_type": "stream",
     "text": [
      "15\n",
      "5\n"
     ]
    }
   ],
   "source": [
    "# Import and use the functions from 'Learning_Python_Part_6_My_Module.py'\n",
    "import Learning_Python_Part_6_My_Module\n",
    "\n",
    "# Using functions from the custom module\n",
    "print(Learning_Python_Part_6_My_Module.add(10, 5))\n",
    "print(Learning_Python_Part_6_My_Module.subtract(10, 5))"
   ]
  }
 ],
 "metadata": {
  "kernelspec": {
   "display_name": "Python 3 (ipykernel)",
   "language": "python",
   "name": "python3"
  },
  "language_info": {
   "codemirror_mode": {
    "name": "ipython",
    "version": 3
   },
   "file_extension": ".py",
   "mimetype": "text/x-python",
   "name": "python",
   "nbconvert_exporter": "python",
   "pygments_lexer": "ipython3",
   "version": "3.12.3"
  }
 },
 "nbformat": 4,
 "nbformat_minor": 5
}
