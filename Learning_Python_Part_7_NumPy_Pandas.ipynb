{
 "cells": [
  {
   "cell_type": "markdown",
   "id": "22dba555-7175-4d7a-b228-fa5519c291af",
   "metadata": {},
   "source": [
    "# Learning Python: Part 7 - Introduction to Libraries NumPy and Pandas"
   ]
  },
  {
   "cell_type": "markdown",
   "id": "f74af240-3649-41f6-be59-6f1970cf8499",
   "metadata": {},
   "source": [
    "## Importing libraries"
   ]
  },
  {
   "cell_type": "markdown",
   "id": "e8bfdaf5-237b-4808-af9f-f4e5899bef6a",
   "metadata": {},
   "source": [
    "To start using NumPy and Pandas, you first need to import them into your Python script. Here's how you can do that:"
   ]
  },
  {
   "cell_type": "code",
   "execution_count": 1,
   "id": "e2c3573f-1508-4ff5-872a-333e362848e1",
   "metadata": {},
   "outputs": [],
   "source": [
    "import numpy as np\n",
    "import pandas as pd"
   ]
  },
  {
   "cell_type": "markdown",
   "id": "61d80fd2-afd0-4251-bf75-64701564f204",
   "metadata": {},
   "source": [
    "## Basic Usage of NumPy"
   ]
  },
  {
   "cell_type": "markdown",
   "id": "24fcb970-a7c6-4fec-8bda-f46076223f64",
   "metadata": {},
   "source": [
    "NumPy (Numerical Python) is a library used for numerical computations. It provides support for arrays, matrices, and many mathematical functions. NumPy is essential for performing numerical calculations in Python, especially in fields like data science, machine learning, and scientific computing.\n",
    "\n",
    "Let's create a simple array and perform basic operations using NumPy:"
   ]
  },
  {
   "cell_type": "code",
   "execution_count": 2,
   "id": "0f59e892-be91-48c9-8e6b-1999ab8e5919",
   "metadata": {},
   "outputs": [
    {
     "name": "stdout",
     "output_type": "stream",
     "text": [
      "Array:  [1 2 3 4 5]\n",
      "Sum:  15\n",
      "Mean:  3.0\n",
      "Standard Deviation:  1.4142135623730951\n"
     ]
    }
   ],
   "source": [
    "# Creating an array\n",
    "arr = np.array([1,2,3,4,5])\n",
    "\n",
    "# Performing operations\n",
    "print(\"Array: \", arr)\n",
    "print (\"Sum: \", np.sum(arr))\n",
    "print(\"Mean: \", np.mean(arr))\n",
    "print(\"Standard Deviation: \", np.std(arr))"
   ]
  },
  {
   "cell_type": "markdown",
   "id": "cae693d3-971d-44f1-896b-e746c11e778e",
   "metadata": {},
   "source": [
    "## Basic Usage of Pandas"
   ]
  },
  {
   "cell_type": "markdown",
   "id": "6e45650b-e83b-4a48-b397-54c540675dcb",
   "metadata": {},
   "source": [
    "Pandas is a powerful library for data manipulation and analysis. It provides data structures like Series and DataFrame, which make it easy to handle structured data. With Pandas, you can perform operations like filtering, grouping, and merging datasets, making it an indispensable tool for data analysis.\n",
    "\n",
    "Now, let's create a DataFrame and perform some basic operations using Pandas:"
   ]
  },
  {
   "cell_type": "code",
   "execution_count": 3,
   "id": "06fcf9e4-159a-4696-9c4d-2a539765771e",
   "metadata": {},
   "outputs": [
    {
     "name": "stdout",
     "output_type": "stream",
     "text": [
      "DataFrame:\n",
      "       Name  Age      City\n",
      "0   Alison   24  New York\n",
      "1      Bob   27   Orlando\n",
      "2  Charlie   22   Chicago\n",
      "Mean Age: 24.333333333333332\n",
      "Cities:\n",
      " ['New York' 'Orlando' 'Chicago']\n"
     ]
    }
   ],
   "source": [
    "# Creating a DataFrame\n",
    "data = {'Name': ['Alison', 'Bob', 'Charlie'],\n",
    "        'Age': [24, 27, 22],\n",
    "        'City': ['New York', 'Orlando', 'Chicago']}\n",
    "\n",
    "df = pd.DataFrame(data)\n",
    "\n",
    "# Displaying the DataFrame\n",
    "print(\"DataFrame:\\n\", df)\n",
    "\n",
    "# Basic operations\n",
    "print(\"Mean Age:\", df['Age'].mean())\n",
    "print(\"Cities:\\n\", df['City'].unique())"
   ]
  },
  {
   "cell_type": "code",
   "execution_count": null,
   "id": "28dc2798-6570-44b7-91de-c4f2a54fe506",
   "metadata": {},
   "outputs": [],
   "source": []
  }
 ],
 "metadata": {
  "kernelspec": {
   "display_name": "Python 3 (ipykernel)",
   "language": "python",
   "name": "python3"
  },
  "language_info": {
   "codemirror_mode": {
    "name": "ipython",
    "version": 3
   },
   "file_extension": ".py",
   "mimetype": "text/x-python",
   "name": "python",
   "nbconvert_exporter": "python",
   "pygments_lexer": "ipython3",
   "version": "3.12.3"
  }
 },
 "nbformat": 4,
 "nbformat_minor": 5
}
